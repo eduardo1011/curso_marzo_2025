{
 "cells": [
  {
   "cell_type": "markdown",
   "id": "772eeaed-4578-4155-bbda-4819bc192202",
   "metadata": {},
   "source": [
    "## 1.- Cadenas de caracteres (str)"
   ]
  },
  {
   "cell_type": "markdown",
   "id": "7215df1b-8bba-465f-be8d-49c9f2e7238a",
   "metadata": {},
   "source": [
    "### Las cadenas de caracteres ó (str) se denominan como secuencias de texto que se pueden representar de diferentes formas: \n",
    "\n",
    "- Simples ('')\n",
    "- Dobles (\" \")\n",
    "- Triples (\"\"\" \"\"\")\n",
    "\n",
    "##### Se pueden usar comillas dobles o simples de manera indistinta \n",
    "##### Las comillas triples permiten definir cadenas miltilínea\n",
    "##### Ejemplo:"
   ]
  },
  {
   "cell_type": "code",
   "execution_count": null,
   "id": "ec1c93c3-1836-42c3-b76a-965a9daa1b52",
   "metadata": {},
   "outputs": [],
   "source": []
  },
  {
   "cell_type": "code",
   "execution_count": 12,
   "id": "f0d9a4bd-00c0-4644-842b-ac9f06b9ee36",
   "metadata": {},
   "outputs": [],
   "source": []
  },
  {
   "cell_type": "code",
   "execution_count": null,
   "id": "e9099dc7",
   "metadata": {},
   "outputs": [],
   "source": []
  },
  {
   "cell_type": "markdown",
   "id": "4ada8ba7-e190-4653-ba20-7f754e130e46",
   "metadata": {},
   "source": [
    "#### Ejercicio: Poner su nombre en una cadena de caracteres"
   ]
  },
  {
   "cell_type": "code",
   "execution_count": null,
   "id": "8ca57a20-66d2-4ac6-b233-fd8e04c6e1d8",
   "metadata": {},
   "outputs": [],
   "source": []
  },
  {
   "cell_type": "code",
   "execution_count": null,
   "id": "ec5730d2",
   "metadata": {},
   "outputs": [],
   "source": []
  },
  {
   "cell_type": "code",
   "execution_count": null,
   "id": "d32bc7ca",
   "metadata": {},
   "outputs": [],
   "source": []
  },
  {
   "cell_type": "code",
   "execution_count": null,
   "id": "00926ad9",
   "metadata": {},
   "outputs": [],
   "source": []
  },
  {
   "cell_type": "markdown",
   "id": "02312732-2742-44fa-9b62-5ecfebc42069",
   "metadata": {},
   "source": [
    "## 1.1.- Índices y slicing (subcadenas)"
   ]
  },
  {
   "cell_type": "markdown",
   "id": "a2d63dd3-d113-4890-94a5-fa629d3d08c2",
   "metadata": {},
   "source": [
    "### Cada caracter en una cadena, tiene una posición (índice) empezando desde cero\n",
    "\n",
    "<script>\n",
    "    var code_cells = document.getElementsByClassName('input');\n",
    "    code_cells[code_cells.length - 1].style.display = 'none';\n",
    "</script>\n"
   ]
  },
  {
   "cell_type": "code",
   "execution_count": 54,
   "id": "22e2ec97-5f07-4eeb-b6f9-d1a7bc5c8b77",
   "metadata": {
    "jupyter": {
     "source_hidden": true
    }
   },
   "outputs": [
    {
     "data": {
      "image/png": "[encoded data removed]",
      "text/plain": [
       "<IPython.core.display.Image object>"
      ]
     },
     "metadata": {},
     "output_type": "display_data"
    }
   ],
   "source": [
    "from IPython.display import display, Image\n",
    "\n",
    "display(Image(\"indexes.png\"))"
   ]
  },
  {
   "cell_type": "code",
   "execution_count": 7,
   "id": "de7a2f0a-fefe-4006-a1b2-cd28ec55f62e",
   "metadata": {},
   "outputs": [],
   "source": []
  },
  {
   "cell_type": "markdown",
   "id": "2676dd5a-c4eb-45f6-9d52-afa7820572c9",
   "metadata": {},
   "source": [
    "#### Ejercicio: de tu nombre, encuentra qué letra hay en la posicion 0, 1 y 3"
   ]
  },
  {
   "cell_type": "code",
   "execution_count": null,
   "id": "7fa92812-e810-4b7f-b87b-865a62e04421",
   "metadata": {},
   "outputs": [],
   "source": []
  },
  {
   "cell_type": "markdown",
   "id": "ee7a549c-2d55-459d-82d8-bbf1c5dad498",
   "metadata": {},
   "source": [
    "### Se pueden obtener partes de un string utilizando [inicio:fin:resto] e indicando el número que da la posición \n",
    "\n",
    "#### Ejemplo"
   ]
  },
  {
   "cell_type": "code",
   "execution_count": null,
   "id": "beab6633-b41d-4f81-8c43-bc99a811cb79",
   "metadata": {},
   "outputs": [],
   "source": []
  },
  {
   "cell_type": "code",
   "execution_count": null,
   "id": "844af697",
   "metadata": {},
   "outputs": [],
   "source": []
  },
  {
   "cell_type": "markdown",
   "id": "c6957a99-a5bd-4ff1-9722-11cdbee90ce8",
   "metadata": {},
   "source": [
    "## 1.2.- Métodos principales de strings"
   ]
  },
  {
   "cell_type": "markdown",
   "id": "f5d7f74e-fb53-426c-b73a-6f21e550df67",
   "metadata": {},
   "source": [
    "### Los string en Python no son estáticos, se pueden modificar utilizando funciones como:\n",
    "\n",
    "- lower() --> Pasar todo a mayúsculas\n",
    "- upper() --> Pasar todo a minúsculas\n",
    "- strip() --> Eliminar espacios en blanco al inicio o al final de la cadena\n",
    "- replace() --> Permite reemplazar una parte del string por otro\n",
    "- split() --> Nos permite dividir el string en partes usanto un delimitador\n",
    "- join() --> Permite unir elementos en una sola cadena"
   ]
  },
  {
   "cell_type": "markdown",
   "id": "c5ed4faa-a569-43ca-b773-a479686c5291",
   "metadata": {},
   "source": [
    "#### Ejemplo lower() y upper()"
   ]
  },
  {
   "cell_type": "code",
   "execution_count": null,
   "id": "96ede3e1-a87a-4752-af66-05658a908a25",
   "metadata": {},
   "outputs": [],
   "source": []
  },
  {
   "cell_type": "markdown",
   "id": "1311f432-9f00-4084-b78c-84fdcb3904af",
   "metadata": {},
   "source": [
    "#### Ejercicio 1: Genera tu nombre en mayúsculas y minúsculas"
   ]
  },
  {
   "cell_type": "code",
   "execution_count": null,
   "id": "f28e85b5-3c14-4b01-9d5d-f2e7ba8fa96c",
   "metadata": {},
   "outputs": [],
   "source": []
  },
  {
   "cell_type": "code",
   "execution_count": null,
   "id": "65bc9b49-0d9a-4ca6-988f-8c3bcd36341e",
   "metadata": {},
   "outputs": [],
   "source": []
  },
  {
   "cell_type": "markdown",
   "id": "c9621b4e-e0cd-4963-b291-b57b7f97ec21",
   "metadata": {},
   "source": [
    "#### Ejemplo strip()"
   ]
  },
  {
   "cell_type": "code",
   "execution_count": 9,
   "id": "0cb8da37-1b0b-47ce-b9c6-4ec3402f2d52",
   "metadata": {},
   "outputs": [],
   "source": []
  },
  {
   "cell_type": "markdown",
   "id": "366e6336-39a5-4ae8-acc2-82b6abdf2c6a",
   "metadata": {},
   "source": [
    "#### Ejercicio 2: Genera tu nombre con espacios y elimina los espacios  "
   ]
  },
  {
   "cell_type": "code",
   "execution_count": null,
   "id": "036eb4f8-b450-47aa-a930-9dcdb52df9ad",
   "metadata": {},
   "outputs": [],
   "source": []
  },
  {
   "cell_type": "markdown",
   "id": "cd528339-5561-4f74-934b-8f4360c8cfbe",
   "metadata": {},
   "source": [
    "#### Ejemplo replace()"
   ]
  },
  {
   "cell_type": "code",
   "execution_count": null,
   "id": "bc4f60f8-3575-4f2e-af95-97bff69f6237",
   "metadata": {},
   "outputs": [],
   "source": []
  },
  {
   "cell_type": "markdown",
   "id": "b960549a-fc94-42fe-b6b7-7e96c0b6f037",
   "metadata": {},
   "source": [
    "#### Ejercicio 3: Genera el nombre que te hubiera gustado tener "
   ]
  },
  {
   "cell_type": "code",
   "execution_count": null,
   "id": "c46b6306-37a5-4af3-8e05-dd2fbad3739c",
   "metadata": {},
   "outputs": [],
   "source": []
  },
  {
   "cell_type": "markdown",
   "id": "7151fe94-62ec-4315-9c37-68f55e9144ea",
   "metadata": {},
   "source": [
    "#### Ejemplo split() y join()"
   ]
  },
  {
   "cell_type": "code",
   "execution_count": null,
   "id": "37da7764-ed4d-4c66-a05a-371a9e138a97",
   "metadata": {},
   "outputs": [],
   "source": []
  },
  {
   "cell_type": "code",
   "execution_count": null,
   "id": "eeb8b88e-150e-4742-8f67-892b5f13db61",
   "metadata": {},
   "outputs": [],
   "source": []
  },
  {
   "cell_type": "code",
   "execution_count": null,
   "id": "7243b941",
   "metadata": {},
   "outputs": [],
   "source": []
  },
  {
   "cell_type": "markdown",
   "id": "b5001171-0fe4-45a0-ab6e-92947a5357e2",
   "metadata": {},
   "source": [
    "#### Ejercicio 4: Divide tu nombre"
   ]
  },
  {
   "cell_type": "code",
   "execution_count": null,
   "id": "8595f379-12f8-45b7-9be7-1f337b97a583",
   "metadata": {},
   "outputs": [],
   "source": []
  },
  {
   "cell_type": "markdown",
   "id": "1f86e6b7-5e4a-4aaf-9aad-126f54bab116",
   "metadata": {},
   "source": [
    "#### Ejercicio 4: A partir de nombre_separado, junta tu nombre de nuevo"
   ]
  },
  {
   "cell_type": "code",
   "execution_count": null,
   "id": "d549a212-7995-47f9-ab83-081dca223bd1",
   "metadata": {},
   "outputs": [],
   "source": []
  },
  {
   "cell_type": "markdown",
   "id": "642b5f44-f570-44ba-9a7f-b707cf4f9ef5",
   "metadata": {},
   "source": [
    "## 1.3.- Concatenación y formato de strings"
   ]
  },
  {
   "cell_type": "markdown",
   "id": "f0d8f546-bdd8-4d7c-918e-ded52e513a42",
   "metadata": {},
   "source": [
    "#### Ejemplo concatenación con \"+\""
   ]
  },
  {
   "cell_type": "code",
   "execution_count": null,
   "id": "cd2a64dd-4965-43e9-85eb-91b788a9d747",
   "metadata": {},
   "outputs": [],
   "source": []
  },
  {
   "cell_type": "markdown",
   "id": "bc29edac-3f14-45ab-bdc9-c101c5958055",
   "metadata": {},
   "source": [
    "#### Ejemplo concatenación con F-strings"
   ]
  },
  {
   "cell_type": "code",
   "execution_count": null,
   "id": "d8bc784e-4e67-4cfc-82be-e3e6caa8925a",
   "metadata": {},
   "outputs": [],
   "source": []
  },
  {
   "cell_type": "markdown",
   "id": "8fadefae-d068-4ddd-9474-947bcda7ef70",
   "metadata": {},
   "source": [
    "#### Ejemplo concatenación con .format()"
   ]
  },
  {
   "cell_type": "code",
   "execution_count": null,
   "id": "36c91535-048e-4155-9b18-152866ff6979",
   "metadata": {},
   "outputs": [],
   "source": []
  },
  {
   "cell_type": "markdown",
   "id": "2dd2361f-2d36-40ff-a6a5-d5b38282ac6a",
   "metadata": {},
   "source": [
    "#### Ejercicio 5: Utiliza cualquier formato de concatenación para formar una frase que te describa utilizando tus datos personales (nombre, carrera/trabajo, edad, qué esperas de este curso)"
   ]
  },
  {
   "cell_type": "code",
   "execution_count": null,
   "id": "97106d90-33a4-40be-819f-09ddcc8abe9a",
   "metadata": {},
   "outputs": [],
   "source": []
  },
  {
   "cell_type": "code",
   "execution_count": null,
   "id": "089d8d83-96ec-411f-964c-d1b9f766e279",
   "metadata": {},
   "outputs": [],
   "source": []
  },
  {
   "cell_type": "markdown",
   "id": "1b4ecff2-14b4-418e-a3b5-c30f5280db89",
   "metadata": {},
   "source": [
    "## 2.- Expresiones regulares"
   ]
  },
  {
   "cell_type": "markdown",
   "id": "f9a8bbf1-8459-4f90-942a-6d71c275cd23",
   "metadata": {},
   "source": [
    "### Son secuencias de caracteres que definen patrones de búsqueda dentro de un texto. Para poder utilizarlas, en el entorno de Python, es necesario instalar el modulo de 're', que nos permitirá buscar, extraer y modificar información dentro de cadenas/strings\n",
    "\n",
    "'import re'\n",
    "\n",
    "El modulo 're' proporciona funciones para trabajar con expresiones regulares\n",
    "\n",
    "- re.search() --> Devuelve la primera coincidencia en el texto\n",
    "- re.match() --> Verifica si el patrón aparece al inicio del texto\n",
    "- re.findall() --> Devuelve una lista con todas las coincidencias\n",
    "- re.sub() --> Remplaza las coincidencias en el texto\n",
    "\n",
    "##### Ejemplos:"
   ]
  },
  {
   "cell_type": "markdown",
   "id": "75726cba-5e3d-4091-a7cb-097625cad912",
   "metadata": {},
   "source": [
    "### 2.1.-search() --> Busca coincidencias y devuelve un objeto o match"
   ]
  },
  {
   "cell_type": "code",
   "execution_count": null,
   "id": "fc45d269-6f77-4a29-83c8-9e37e78e7040",
   "metadata": {},
   "outputs": [],
   "source": []
  },
  {
   "cell_type": "code",
   "execution_count": null,
   "id": "dfaa1e38",
   "metadata": {},
   "outputs": [],
   "source": []
  },
  {
   "cell_type": "code",
   "execution_count": null,
   "id": "ef2ae0b4",
   "metadata": {},
   "outputs": [],
   "source": []
  },
  {
   "cell_type": "code",
   "execution_count": null,
   "id": "c390d453",
   "metadata": {},
   "outputs": [],
   "source": []
  },
  {
   "cell_type": "code",
   "execution_count": null,
   "id": "c56bb1ec",
   "metadata": {},
   "outputs": [],
   "source": []
  },
  {
   "cell_type": "code",
   "execution_count": null,
   "id": "90b56e5f",
   "metadata": {},
   "outputs": [],
   "source": []
  },
  {
   "cell_type": "code",
   "execution_count": null,
   "id": "dcaf8e11",
   "metadata": {},
   "outputs": [],
   "source": []
  },
  {
   "cell_type": "markdown",
   "id": "25730579-92d5-47eb-99e9-55da24d7213a",
   "metadata": {},
   "source": [
    "### 2.2.- match( ) --> Coincidencia al inicio de la cadena"
   ]
  },
  {
   "cell_type": "code",
   "execution_count": null,
   "id": "90dc43fd-98e8-4a39-99a3-ce0184166e45",
   "metadata": {},
   "outputs": [],
   "source": []
  },
  {
   "cell_type": "code",
   "execution_count": null,
   "id": "6bc624a5",
   "metadata": {},
   "outputs": [],
   "source": []
  },
  {
   "cell_type": "code",
   "execution_count": null,
   "id": "d232a5f3",
   "metadata": {},
   "outputs": [],
   "source": []
  },
  {
   "cell_type": "code",
   "execution_count": null,
   "id": "bf6ef338",
   "metadata": {},
   "outputs": [],
   "source": []
  },
  {
   "cell_type": "code",
   "execution_count": null,
   "id": "fb067bb0",
   "metadata": {},
   "outputs": [],
   "source": []
  },
  {
   "cell_type": "code",
   "execution_count": null,
   "id": "c112771a",
   "metadata": {},
   "outputs": [],
   "source": []
  },
  {
   "cell_type": "markdown",
   "id": "47f9bdde-1015-45f3-8637-b3b5b6ff8bab",
   "metadata": {},
   "source": [
    "##### 'match()' Verifica si la cadena empieza con un patrón determinado, pero solo al inicio del texto, mientras que search() lo hace en todo el texto"
   ]
  },
  {
   "cell_type": "markdown",
   "id": "9b9a8e12-ec0e-4d4e-9733-91cb25a19311",
   "metadata": {},
   "source": [
    "### 2.3.-findall( ) --> Devuelte una lista con todas las coincidencias en el texto"
   ]
  },
  {
   "cell_type": "code",
   "execution_count": null,
   "id": "4c0488c7-873c-47ce-8347-771e1de90b83",
   "metadata": {},
   "outputs": [],
   "source": []
  },
  {
   "cell_type": "markdown",
   "id": "14948eea-907c-4b23-9713-20cf771c51c8",
   "metadata": {},
   "source": [
    "##### Útil cuando necesitas todas las coincidencias"
   ]
  },
  {
   "cell_type": "markdown",
   "id": "d2ac77dd-ffda-44f9-8fb6-1472d1c19d09",
   "metadata": {},
   "source": [
    "### 2.4.- sub() Permite modificar el texto reemplazando las coincidencias "
   ]
  },
  {
   "cell_type": "code",
   "execution_count": null,
   "id": "c3613fc5-2538-479b-b8c0-bece8b7770f0",
   "metadata": {},
   "outputs": [],
   "source": []
  },
  {
   "cell_type": "code",
   "execution_count": null,
   "id": "250054ce-311c-401c-a1cd-cd4c95326ddf",
   "metadata": {},
   "outputs": [],
   "source": []
  },
  {
   "cell_type": "markdown",
   "id": "62deff57-e91c-4938-ad06-f1cbf64bbd06",
   "metadata": {},
   "source": [
    "## 3.- Diccionarios"
   ]
  },
  {
   "cell_type": "markdown",
   "id": "e9454eef-225e-407c-b744-cac74ae6f3de",
   "metadata": {},
   "source": [
    "### Es una estructura de datos en Python que almacena pares de clave-valor. Se utiliza cuando es necesario asociar elementos de manera eficiente\n",
    "\n",
    "Sus características principales son: \n",
    "\n",
    "- Se definen con { }\n",
    "- Son mutables (se pueden modificar\n",
    "- No se permiten que las claves estén duplicadas\n",
    "- Es posible acceder a los valores mediante su clave, no su poisición\n",
    "\n",
    "##### Ejemplo:"
   ]
  },
  {
   "cell_type": "code",
   "execution_count": 21,
   "id": "9e700300-d2f0-4390-adb8-2b0123da3417",
   "metadata": {},
   "outputs": [],
   "source": []
  },
  {
   "cell_type": "code",
   "execution_count": null,
   "id": "4216ef03-45bc-48a9-8616-2e6e846b67a2",
   "metadata": {},
   "outputs": [],
   "source": []
  },
  {
   "cell_type": "markdown",
   "id": "7f9889e0-e2f4-42e9-b0a7-36ede05a150f",
   "metadata": {},
   "source": [
    "### 3.1.- Las claves y valores\n",
    "Permiten acceder a valores utilizando \"[]\" y la función \".get()\" para obtener un valor, por ejemplo:"
   ]
  },
  {
   "cell_type": "code",
   "execution_count": null,
   "id": "440f6749-2cca-484f-b50e-5ef672608c70",
   "metadata": {},
   "outputs": [],
   "source": []
  },
  {
   "cell_type": "markdown",
   "id": "e4718cef-f1fe-417a-9491-f649dd47f250",
   "metadata": {},
   "source": [
    "La diferencia entre utilizar [] y la funcion .get(), radica en que el primero generará un error al no encontrar el valor y el segundo devolverá un 'none', ejemplo:"
   ]
  },
  {
   "cell_type": "code",
   "execution_count": null,
   "id": "6e646130-d602-42cc-846e-6425f012b660",
   "metadata": {},
   "outputs": [],
   "source": []
  },
  {
   "cell_type": "markdown",
   "id": "3c4fa389-bd94-4437-9eb5-8db305eb4f9b",
   "metadata": {},
   "source": [
    "### 3.2.- Métodos importantes de diccionarios"
   ]
  },
  {
   "cell_type": "markdown",
   "id": "5a6467f2-19f6-46bd-a68b-c85bf33aab11",
   "metadata": {},
   "source": [
    "3.2.1.- keys(): Permite obtener todas las claves de los valoers dentro de un diccionario. \n",
    "Ejemplo:"
   ]
  },
  {
   "cell_type": "code",
   "execution_count": null,
   "id": "01a5d3f6-29bd-4abf-b14e-bdb6c0862e80",
   "metadata": {},
   "outputs": [],
   "source": []
  },
  {
   "cell_type": "markdown",
   "id": "cc5f9c94-4228-4750-ae35-a75c147187dc",
   "metadata": {},
   "source": [
    "3.2.2.- values(): Permite obtener todos los valores de cada uno de las claves dentro de un diccionario. \n",
    "Ejemplo:"
   ]
  },
  {
   "cell_type": "code",
   "execution_count": null,
   "id": "570575f1-0b01-4236-8057-22b203dae241",
   "metadata": {},
   "outputs": [],
   "source": []
  },
  {
   "cell_type": "markdown",
   "id": "fe02e352-ec08-48ee-b382-2aa7d416c110",
   "metadata": {},
   "source": [
    "3.2.3.- items(): Devuelve los pares clave-valor para visualizar la información dentro del diccionario\n",
    "Ejemplo:"
   ]
  },
  {
   "cell_type": "code",
   "execution_count": null,
   "id": "3c373427-ad05-4b8a-8cc6-f57e1fa8d388",
   "metadata": {},
   "outputs": [],
   "source": []
  },
  {
   "cell_type": "markdown",
   "id": "bb965db1-24b7-4879-9a04-939b6932ce2f",
   "metadata": {},
   "source": [
    "3.2.4.- update(): Nos permite hacer uso de la capacidad de cambio de los diccionarios al agregar o actualizar elementos \n",
    "Ejemplo:"
   ]
  },
  {
   "cell_type": "code",
   "execution_count": null,
   "id": "5aaa337a-6830-4c2d-b5f6-14e284528bb6",
   "metadata": {},
   "outputs": [],
   "source": []
  },
  {
   "cell_type": "markdown",
   "id": "1bcad91b-6ae5-410c-90ec-1ec0c4dd464e",
   "metadata": {},
   "source": [
    "3.2.4.- pop(): Permite eliminar un elemento y obtener su valor. Ejemplo:\n",
    "Ejemplo:"
   ]
  },
  {
   "cell_type": "code",
   "execution_count": null,
   "id": "902b0a4e-7dca-4b8e-84fb-9cc83ac60c7d",
   "metadata": {},
   "outputs": [],
   "source": []
  },
  {
   "cell_type": "markdown",
   "id": "ce1191e7-eeef-4892-ac23-99429085765f",
   "metadata": {},
   "source": [
    "Ejercicio:"
   ]
  },
  {
   "cell_type": "code",
   "execution_count": null,
   "id": "4e813cbf-f50b-4d04-9131-2bfdc57b4087",
   "metadata": {},
   "outputs": [],
   "source": []
  },
  {
   "cell_type": "markdown",
   "id": "9c619f20-5d99-4426-a513-82d6ab00039c",
   "metadata": {},
   "source": [
    "### 3.3.- Los diccionarios son objetos iterables\n",
    "Para recorrer los diccionarios se utiliza la funcion \"for\", seguido de \"in\" para imprimir datos importantes dentro de un diccionario. Ejemplos:"
   ]
  },
  {
   "cell_type": "code",
   "execution_count": 51,
   "id": "5f34ba24",
   "metadata": {
    "slideshow": {
     "slide_type": "slide"
    }
   },
   "outputs": [
    {
     "name": "stdout",
     "output_type": "stream",
     "text": [
      "nombre Carlos\n",
      "ciudad Madrid\n",
      "profesion Ingeniero\n"
     ]
    }
   ],
   "source": [
    "for clave in datos:\n",
    "    print(clave, datos[clave])"
   ]
  },
  {
   "cell_type": "code",
   "execution_count": null,
   "id": "4fe586d7-fa2a-431b-9fd3-d3b93be8d775",
   "metadata": {
    "slideshow": {
     "slide_type": "slide"
    }
   },
   "outputs": [],
   "source": []
  },
  {
   "cell_type": "code",
   "execution_count": 31,
   "id": "549a402f-1e69-4462-9b10-3c0ca1d4b83b",
   "metadata": {
    "slideshow": {
     "slide_type": "subslide"
    }
   },
   "outputs": [
    {
     "name": "stdout",
     "output_type": "stream",
     "text": [
      "Carlos\n",
      "Madrid\n",
      "Ingeniero\n"
     ]
    }
   ],
   "source": [
    "for valor in datos.values():\n",
    "    print(valor)"
   ]
  },
  {
   "cell_type": "code",
   "execution_count": null,
   "id": "24d8263e-7458-4730-8d92-ba79c4ad3987",
   "metadata": {
    "slideshow": {
     "slide_type": "fragment"
    }
   },
   "outputs": [],
   "source": []
  },
  {
   "cell_type": "markdown",
   "id": "b14b1da7-02b9-46f0-a4a2-0d08826ee0b4",
   "metadata": {},
   "source": [
    "Ejercicio:"
   ]
  },
  {
   "cell_type": "code",
   "execution_count": null,
   "id": "aa969fa5-6b13-4846-a28c-fc45dd41cc98",
   "metadata": {},
   "outputs": [],
   "source": []
  },
  {
   "cell_type": "markdown",
   "id": "12763cf5",
   "metadata": {},
   "source": [
    "## Ejemplo Extra"
   ]
  },
  {
   "cell_type": "code",
   "execution_count": 14,
   "id": "8b9c90c8",
   "metadata": {},
   "outputs": [
    {
     "name": "stdout",
     "output_type": "stream",
     "text": [
      "{'arroz': 15, 'papa': -10, 'fideos': -10}\n",
      "arroz: 15\n",
      "papa: -10\n",
      "fideos: -10\n"
     ]
    }
   ],
   "source": [
    "### Dada una lista...\n",
    "registros = [(\"arroz\",\"C\",20),\n",
    "             (\"arroz\",\"C\",10),\n",
    "             (\"arroz\",\"V\",15), \n",
    "             (\"papa\", \"V\", 10), \n",
    "             (\"papa\", \"V\", 40),\n",
    "             (\"papa\", \"C\", 40),\n",
    "             (\"fideos\", \"C\", 10),\n",
    "             (\"fideos\", \"V\", 20)  \n",
    "             ]\n",
    "\n",
    "### Crear un diccionario que contenga el stock de cada producto\n",
    "stock = {}\n",
    "\n",
    "### Iterar sobre la lista de registros\n",
    "for producto, accion, cantidad in registros:\n",
    "    if producto not in stock:\n",
    "        stock[producto] = 0 ### En un principio no hay stock\n",
    "    if accion == \"C\": ### La accion de compra aumenta el stock\n",
    "        stock[producto] += cantidad\n",
    "    elif accion == \"V\": ### La accion de venta disminuye el stock\n",
    "        stock[producto] -= cantidad ### Disminuir el stock\n",
    "print (stock)\n",
    "\n",
    "items_stock = stock.items()\n",
    "items_stock = sorted(\n",
    "    items_stock,\n",
    "    key = lambda item: item[1],\n",
    "    reverse = True\n",
    ")\n",
    "\n",
    "### Lo regresamos a un diccionario\n",
    "\n",
    "for producto, cantidad in items_stock:\n",
    "   print (f\"{producto}: {cantidad}\")\n",
    "\n"
   ]
  },
  {
   "cell_type": "markdown",
   "id": "438a6e0d-6672-4aba-b2aa-e3fffd952483",
   "metadata": {},
   "source": [
    "### 3.4.- Los diccionarios también pueden contener diccionarios dentro\n",
    "Los diccionarios no solamente pueden contener valores con sus claves, estos valores también pueden ser diccionarios o listas. Esto, les da la capacidad de organizar datos complejos de manera más estructurada.Ejemplo:"
   ]
  },
  {
   "cell_type": "code",
   "execution_count": null,
   "id": "7d2093d3-4882-47a1-94ec-69a05231c9d5",
   "metadata": {},
   "outputs": [],
   "source": []
  },
  {
   "cell_type": "markdown",
   "id": "707ce8c7-b5ab-4e08-8083-d4938669909f",
   "metadata": {},
   "source": [
    "Ejercicio:"
   ]
  },
  {
   "cell_type": "code",
   "execution_count": null,
   "id": "18eef51c-1253-490f-b27f-2f7c863e4f9b",
   "metadata": {},
   "outputs": [],
   "source": []
  },
  {
   "cell_type": "code",
   "execution_count": null,
   "id": "98df2ded-e91b-4f26-9ecb-e3d1c0ca0830",
   "metadata": {},
   "outputs": [],
   "source": []
  },
  {
   "cell_type": "code",
   "execution_count": null,
   "id": "0a874dca",
   "metadata": {},
   "outputs": [],
   "source": []
  }
 ],
 "metadata": {
  "kernelspec": {
   "display_name": "Python 3 (ipykernel)",
   "language": "python",
   "name": "python3"
  },
  "language_info": {
   "codemirror_mode": {
    "name": "ipython",
    "version": 3
   },
   "file_extension": ".py",
   "mimetype": "text/x-python",
   "name": "python",
   "nbconvert_exporter": "python",
   "pygments_lexer": "ipython3",
   "version": "3.12.6"
  }
 },
 "nbformat": 4,
 "nbformat_minor": 5
}
