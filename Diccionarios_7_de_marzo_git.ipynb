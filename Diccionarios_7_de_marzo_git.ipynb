{
 "cells": [
  {
   "cell_type": "markdown",
   "id": "5cac7b4d",
   "metadata": {},
   "source": [
    "## 3.- Diccionarios"
   ]
  },
  {
   "cell_type": "markdown",
   "id": "e9454eef-225e-407c-b744-cac74ae6f3de",
   "metadata": {},
   "source": [
    "### Es una estructura de datos en Python que almacena pares de {clave:valor}. Se utiliza cuando es necesario asociar elementos de manera eficiente\n",
    "\n",
    "Sus características principales son: \n",
    "\n",
    "- Se definen con { }\n",
    "- Son mutables (se pueden modificar)\n",
    "- No se permiten que las claves estén duplicadas\n",
    "- Es posible acceder a los valores mediante su clave, no su poisición\n",
    "\n",
    "##### Ejemplo:"
   ]
  },
  {
   "cell_type": "code",
   "execution_count": 4,
   "id": "3799ce41",
   "metadata": {},
   "outputs": [],
   "source": [
    "#Ejercicio: crear diccionario"
   ]
  },
  {
   "cell_type": "markdown",
   "id": "7f9889e0-e2f4-42e9-b0a7-36ede05a150f",
   "metadata": {},
   "source": [
    "### 3.1.- Las claves y valores\n",
    "En los diccionarios se permite acceder a valores utilizando \"[]\" y la función \".get()\" para obtener un valor, por ejemplo:"
   ]
  },
  {
   "cell_type": "code",
   "execution_count": null,
   "id": "e8f94135",
   "metadata": {},
   "outputs": [],
   "source": []
  },
  {
   "cell_type": "markdown",
   "id": "e4718cef-f1fe-417a-9491-f649dd47f250",
   "metadata": {},
   "source": [
    "La diferencia entre utilizar [] y la funcion .get(), radica en que el primero generará un error al no encontrar el valor y el segundo devolverá un 'none', ejemplo:"
   ]
  },
  {
   "cell_type": "markdown",
   "id": "3c4fa389-bd94-4437-9eb5-8db305eb4f9b",
   "metadata": {},
   "source": [
    "### 3.2.- Métodos importantes de diccionarios"
   ]
  },
  {
   "cell_type": "code",
   "execution_count": null,
   "id": "c600f9ac",
   "metadata": {},
   "outputs": [],
   "source": []
  },
  {
   "cell_type": "markdown",
   "id": "5a6467f2-19f6-46bd-a68b-c85bf33aab11",
   "metadata": {},
   "source": [
    "3.2.1.- keys(): Permite obtener todas las claves de los valoers dentro de un diccionario. \n",
    "Ejemplo:"
   ]
  },
  {
   "cell_type": "code",
   "execution_count": null,
   "id": "d5e8d527",
   "metadata": {},
   "outputs": [],
   "source": []
  },
  {
   "cell_type": "markdown",
   "id": "cc5f9c94-4228-4750-ae35-a75c147187dc",
   "metadata": {},
   "source": [
    "3.2.2.- values(): Permite obtener todos los valores de cada uno de las claves dentro de un diccionario. \n",
    "Ejemplo:"
   ]
  },
  {
   "cell_type": "code",
   "execution_count": null,
   "id": "a482bb4b",
   "metadata": {},
   "outputs": [],
   "source": []
  },
  {
   "cell_type": "markdown",
   "id": "fe02e352-ec08-48ee-b382-2aa7d416c110",
   "metadata": {},
   "source": [
    "3.2.3.- items(): Devuelve los pares clave-valor para visualizar la información dentro del diccionario\n",
    "Ejemplo:"
   ]
  },
  {
   "cell_type": "code",
   "execution_count": null,
   "id": "05ee1c9b",
   "metadata": {},
   "outputs": [],
   "source": []
  },
  {
   "cell_type": "markdown",
   "id": "bb965db1-24b7-4879-9a04-939b6932ce2f",
   "metadata": {},
   "source": [
    "3.2.4.- update(): Nos permite hacer uso de la capacidad de cambio de los diccionarios al agregar o actualizar elementos \n",
    "Ejemplo:"
   ]
  },
  {
   "cell_type": "code",
   "execution_count": null,
   "id": "beee3ed2",
   "metadata": {},
   "outputs": [],
   "source": []
  },
  {
   "cell_type": "markdown",
   "id": "1bcad91b-6ae5-410c-90ec-1ec0c4dd464e",
   "metadata": {},
   "source": [
    "3.2.4.- pop(): Permite eliminar un elemento y obtener su valor. Ejemplo:\n",
    "Ejemplo:"
   ]
  },
  {
   "cell_type": "markdown",
   "id": "ce1191e7-eeef-4892-ac23-99429085765f",
   "metadata": {},
   "source": [
    "Ejercicio:"
   ]
  },
  {
   "cell_type": "markdown",
   "id": "481a61a0",
   "metadata": {},
   "source": [
    "##### Modificar el diccionario {Persona}, en el nombre, poner el nombre que les hubiera gustado tener, eliminar \"pais\" y modificar \"profesion\" para que sea \"profesión\""
   ]
  },
  {
   "cell_type": "code",
   "execution_count": null,
   "id": "f809b55c",
   "metadata": {},
   "outputs": [],
   "source": [
    "### Instruccion"
   ]
  },
  {
   "cell_type": "code",
   "execution_count": null,
   "id": "7736e977",
   "metadata": {},
   "outputs": [],
   "source": [
    "### Imprimir diccionario editado"
   ]
  },
  {
   "cell_type": "markdown",
   "id": "9c619f20-5d99-4426-a513-82d6ab00039c",
   "metadata": {},
   "source": [
    "### 3.3.- Los diccionarios son objetos iterables\n",
    "Para recorrer los diccionarios se utiliza la funcion \"for\", seguido de \"in\" para imprimir datos importantes dentro de un diccionario. Ejemplos:"
   ]
  },
  {
   "cell_type": "code",
   "execution_count": null,
   "id": "aa969fa5-6b13-4846-a28c-fc45dd41cc98",
   "metadata": {},
   "outputs": [],
   "source": []
  },
  {
   "cell_type": "markdown",
   "id": "438a6e0d-6672-4aba-b2aa-e3fffd952483",
   "metadata": {},
   "source": [
    "### 3.4.- Los diccionarios también pueden contener diccionarios dentro\n",
    "Los diccionarios no solamente pueden contener valores con sus claves, estos valores también pueden ser diccionarios o listas. Esto, les da la capacidad de organizar datos complejos de manera más estructurada.Ejemplo:"
   ]
  },
  {
   "cell_type": "markdown",
   "id": "707ce8c7-b5ab-4e08-8083-d4938669909f",
   "metadata": {},
   "source": [
    "Ejercicio:"
   ]
  },
  {
   "cell_type": "code",
   "execution_count": null,
   "id": "eaf06407",
   "metadata": {},
   "outputs": [],
   "source": []
  }
 ],
 "metadata": {
  "kernelspec": {
   "display_name": "Python 3 (ipykernel)",
   "language": "python",
   "name": "python3"
  },
  "language_info": {
   "codemirror_mode": {
    "name": "ipython",
    "version": 3
   },
   "file_extension": ".py",
   "mimetype": "text/x-python",
   "name": "python",
   "nbconvert_exporter": "python",
   "pygments_lexer": "ipython3",
   "version": "3.12.6"
  }
 },
 "nbformat": 4,
 "nbformat_minor": 5
}
