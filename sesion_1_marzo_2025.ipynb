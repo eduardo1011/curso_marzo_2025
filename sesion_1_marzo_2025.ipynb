{
 "cells": [
  {
   "cell_type": "markdown",
   "id": "43fb5de8",
   "metadata": {
    "slideshow": {
     "slide_type": "slide"
    }
   },
   "source": [
    "<center>\n",
    "<div style=\"color:;\n",
    "           display:fill;\n",
    "           border-radius:5px;\n",
    "           background-color: darkslategray;\n",
    "           font-size:200%;\n",
    "           letter-spacing:0.5px\">\n",
    "\n",
    "<h2 style=\"padding: 10px;\n",
    "              color:white;\">CURSO BÁSICO DE PYTHON PARA EL ANÁLISIS DE DATOS\n",
    "    \n",
    "</h2>\n",
    "</div>"
   ]
  },
  {
   "cell_type": "markdown",
   "id": "8f0a0f3d",
   "metadata": {
    "slideshow": {
     "slide_type": "slide"
    }
   },
   "source": [
    "<div class=\"table-of-contents\" style=\"background-color:darkslategray;font-size:110%\">\n",
    "\n",
    "<h2 style=\"padding: 10px;\n",
    "              color:white;\">OBJETIVO GENERAL\n",
    "    \n",
    "</h2>\n",
    "</div>\n",
    "\n",
    "\n",
    "<h3 style=\"padding: 0px;\n",
    "              color:darkslategray\">Aprender programación estructurada en lenguaje Python para procesar, analizar, interpretar, visualizar y almacenar datos e información mediante la plataforma interactiva y de desarrollo Jupyter Notebook. \n",
    "</h3>\n",
    "</div>\n",
    "\n",
    "\n",
    "    \n",
    "  "
   ]
  },
  {
   "cell_type": "markdown",
   "id": "6b873c2c",
   "metadata": {
    "slideshow": {
     "slide_type": "slide"
    }
   },
   "source": [
    "<div class=\"table-of-contents\" style=\"background-color:darkslategray;font-size:110%\">\n",
    "\n",
    "<h2 style=\"padding: 10px;\n",
    "              color:white;\">OBJETIVOS ESPECÍFICOS\n",
    "    \n",
    "</h2>\n",
    "</div>\n",
    "\n",
    "<h3 style=\"padding: 0px;\n",
    "              color:darkslategray\">Aprender los conceptos básicos de la programación estructurada del lenguaje Python.\n",
    "<h3 style=\"padding: 0px;\n",
    "              color:darkslategray\">Aplicar los conocimientos de la programación para procesar, analizar, interpretar, visualizar y almacenar datos e información. \n",
    "\n",
    "<h3 style=\"padding: 0px;\n",
    "              color:darkslategray\">Aplicar los conocimientos de la programación para desarrollar habilidades lógicas y de resolución de problemas. \n",
    "\n",
    "\n",
    "<h3 style=\"padding: 0px;\n",
    "              color:darkslategray\">Que los asistentes adquieran competencias profesionales y habilidades creativas. \n",
    "\n",
    "\n"
   ]
  },
  {
   "cell_type": "markdown",
   "id": "2adf129c",
   "metadata": {
    "slideshow": {
     "slide_type": "slide"
    }
   },
   "source": [
    "<div class=\"table-of-contents\" style=\"background-color:darkslategray;font-size:110%\">\n",
    "\n",
    "<h2 style=\"padding: 10px;\n",
    "              color:white;\">Sesión 1 (5 horas)\n",
    "    \n",
    "</h2>\n",
    "</div> \n",
    "\n",
    "<div class=\"table-of-contents\" style=\"background-color:white;font-size:50%\">\n",
    "\n",
    "<h2 style=\"padding: 0px;\n",
    "              color:black;\">\n",
    "\n",
    "> ## INTRODUCCIÓN  \n",
    ">> ### <font color = darkslategray>Presentación y recomendaciones</font> \n",
    ">> ### <font color = darkslategray>Introducción Python</font>  \n",
    ">> ### <font color = darkslategray>Jupyter Notebook</font>\n",
    ">> ### <font color = darkslategray>Texto enriquecido (Markdown)</font>  \n",
    ">> ### <font color = darkslategray>Variables</font>  \n",
    ">> ### <font color = darkslategray>Operadores boleanos</font>"
   ]
  },
  {
   "cell_type": "markdown",
   "id": "32621cc4",
   "metadata": {
    "slideshow": {
     "slide_type": "slide"
    }
   },
   "source": [
    "<div class=\"table-of-contents\" style=\"background-color:white;font-size:50%\">\n",
    "\n",
    "<h2 style=\"padding: 0px;\n",
    "              color:black;\">\n",
    "\n",
    "> ## ESTRUCTURA DEL LENGUAJE  \n",
    ">> ### <font color = darkslategray>Cadenas de caracteres</font> \n",
    ">> ### <font color = darkslategray>Expresiones regulares (re)</font>  \n",
    ">> ### <font color = darkslategray>Listas y tuplas (list, tuple)</font>\n"
   ]
  },
  {
   "cell_type": "markdown",
   "id": "868a97a1",
   "metadata": {
    "slideshow": {
     "slide_type": "slide"
    }
   },
   "source": [
    "<div class=\"table-of-contents\" style=\"background-color:darkslategray;font-size:110%\">\n",
    "\n",
    "<h2 style=\"padding: 10px;\n",
    "              color:white;\">Sesión 2 (5 horas)\n",
    "    \n",
    "</h2>\n",
    "</div> \n",
    "\n",
    "<div class=\"table-of-contents\" style=\"background-color:white;font-size:50%\">\n",
    "\n",
    "<h2 style=\"padding: 0px;\n",
    "              color:black;\">\n",
    "  \n",
    ">> ### <font color = darkslategray>Diccionarios (dict)</font> \n",
    ">> ### <font color = darkslategray>DataFrame (Pandas)</font> \n",
    "> ## CONTROL DE FLUJO Y FUNCIONES  \n",
    ">> ### <font color = darkslategray>Condicionales if, elif y else</font> \n",
    ">> ### <font color = darkslategray>Bucle for</font>  \n",
    ">> ### <font color = darkslategray>Funciones (def)</font>"
   ]
  },
  {
   "cell_type": "markdown",
   "id": "c30a91ab",
   "metadata": {
    "slideshow": {
     "slide_type": "slide"
    }
   },
   "source": [
    "\n",
    "<div class=\"table-of-contents\" style=\"background-color:white;font-size:50%\">\n",
    "\n",
    "<h2 style=\"padding: 0px;\n",
    "              color:black;\">\n",
    "  \n",
    "> ## INTEGRACIÓN DE ESTRUCTURAS  \n",
    ">> ### <font color = darkslategray>Ejercicios prácticos</font> \n",
    ">> ### <font color = darkslategray>\tListas, diccionarios, DataFrames, bucles, condicionales, etc.</font> "
   ]
  },
  {
   "cell_type": "markdown",
   "id": "bb00ae76",
   "metadata": {
    "slideshow": {
     "slide_type": "slide"
    }
   },
   "source": [
    "<div class=\"table-of-contents\" style=\"background-color:darkslategray;font-size:110%\">\n",
    "\n",
    "<h2 style=\"padding: 10px;\n",
    "              color:white;\">Sesión 3 (5 horas)\n",
    "    \n",
    "</h2>\n",
    "</div> \n",
    "\n",
    "<div class=\"table-of-contents\" style=\"background-color:white;font-size:50%\">\n",
    "\n",
    "<h2 style=\"padding: 0px;\n",
    "              color:black;\">\n",
    "    \n",
    "> ## VISUALIZACIÓN DE DATOS  \n",
    ">> ### <font color = darkslategray>Gráficos (Matplotlib)</font> \n",
    ">> ### <font color = darkslategray>Uso de Widgets, Control interactivo de visualizaciones</font> \n",
    "> ## ANÁLISIS INTERACTIVO DE DATOS  "
   ]
  },
  {
   "cell_type": "markdown",
   "id": "1010e880",
   "metadata": {
    "slideshow": {
     "slide_type": "slide"
    }
   },
   "source": [
    "<div class=\"table-of-contents\" style=\"background-color:darkslategray;font-size:110%\">\n",
    "\n",
    "<h2 style=\"padding: 10px;\n",
    "              color:white;\">Curso\n",
    "    \n",
    "</h2>\n",
    "</div> \n",
    "\n",
    "<div class=\"table-of-contents\" style=\"background-color:white;font-size:50%\">\n",
    "\n",
    "<h2 style=\"padding: 0px;\n",
    "              color:black;\">\n",
    "  \n",
    ">> ### <font color = darkslategray>5 - 7 de marzo, 3 sesiones de 5 horas.</font> \n",
    ">> ### <font color = darkslategray>14:00 - 19:00 horas, Aula Multimedia de la CEC.</font>\n",
    ">> ### <font color = darkslategray>Descanso: de 16:00 – 16:30 horas.</font>\n",
    "> ## PORCENTAJE MÍNIMO DE ASISTENCIA PARA OBTENER CONSTANCIA\n",
    ">> ### <font color = darkslategray>80% de asistencia (12 horas).</font>"
   ]
  },
  {
   "cell_type": "code",
   "execution_count": null,
   "id": "372656ed",
   "metadata": {},
   "outputs": [],
   "source": []
  },
  {
   "cell_type": "markdown",
   "id": "67569d8e",
   "metadata": {
    "slideshow": {
     "slide_type": "slide"
    }
   },
   "source": [
    "\n",
    "<img style=\"float: left;\" src=\"https://raw.githubusercontent.com/eduardo1011/curso_marzo_2025/refs/heads/main/Imagen1%20python.jpg\" width = 90%> <br>"
   ]
  },
  {
   "cell_type": "markdown",
   "id": "9d450f0d",
   "metadata": {
    "slideshow": {
     "slide_type": "slide"
    }
   },
   "source": [
    "\n",
    "<img style=\"float: left;\" src=\"https://raw.githubusercontent.com/eduardo1011/curso_marzo_2025/refs/heads/main/Imagen2%20python.jpg\" width = 90%> <br>"
   ]
  },
  {
   "cell_type": "markdown",
   "id": "1c73c24e",
   "metadata": {
    "slideshow": {
     "slide_type": "slide"
    }
   },
   "source": [
    "\n",
    "<img style=\"float: left;\" src=\"https://raw.githubusercontent.com/eduardo1011/curso_marzo_2025/refs/heads/main/Imagen3%20python.jpg\" width = 90%> <br>"
   ]
  },
  {
   "cell_type": "code",
   "execution_count": null,
   "id": "cc0bd1cd",
   "metadata": {
    "slideshow": {
     "slide_type": "skip"
    }
   },
   "outputs": [],
   "source": []
  },
  {
   "cell_type": "markdown",
   "id": "f7144198",
   "metadata": {
    "slideshow": {
     "slide_type": "slide"
    }
   },
   "source": [
    "\n",
    "<div class=\"table-of-contents\" style=\"background-color:white;font-size:150%\">\n",
    "\n",
    "<h2 style=\"padding: 10px;\n",
    "              color:darkslategray;\">Jupyter Notebook\n",
    "    \n",
    "</h2>\n",
    "</div>\n",
    "\n",
    "<img style=\"float: left;\" src=\"http://programacion.espol.edu.ec/static/media/uploads/.thumbnails/jupyter.png/jupyter-1091x542.png\" width = 70%> <br>"
   ]
  },
  {
   "cell_type": "markdown",
   "id": "36d91b2d",
   "metadata": {
    "slideshow": {
     "slide_type": "slide"
    }
   },
   "source": [
    "\n",
    "<div class=\"table-of-contents\" style=\"background-color:white;font-size:110%\">\n",
    "\n",
    "<h2 style=\"padding: 10px;\n",
    "              color:darkslategray;\">Jupyter Notebook\n",
    "    \n",
    "</h2>\n",
    "</div>\n",
    "\n",
    "<div class=\"table-of-contents\" style=\"background-color:darkslategray;font-size:80%\">\n",
    "<h2 style=\"padding: 10px;\n",
    "              color:white;\">Combina código (Python, HTML), visualizaciones (tablas, figuras) y texto narrativo. \n",
    "    \n",
    "</h2>\n",
    "</div> \n",
    "\n",
    "#### <font color = darkslategray>Documentos ejecutables</font>\n",
    "\n",
    "\n",
    "<img style=\"float: left;\" src=\"https://nustat.github.io/DataScience_Intro_python/Datasets/dataviz.png\" width = 60%> <br>"
   ]
  },
  {
   "cell_type": "markdown",
   "id": "009799c7",
   "metadata": {
    "slideshow": {
     "slide_type": "slide"
    }
   },
   "source": [
    "\n",
    "\n",
    "<div class=\"table-of-contents\" style=\"background-color:darkslategray;font-size:80%\">\n",
    "<h2 style=\"padding: 10px;\n",
    "              color:white;\">Combina código (Python, HTML), visualizaciones (tablas, figuras) y texto narrativo. \n",
    "    \n",
    "</h2>\n",
    "</div> \n",
    "\n",
    "<img style=\"float: left;\" src=\"https://res.cloudinary.com/edlitera/image/upload/c_fill,f_auto/v1594161194/blog/wnnrl4n17gum2uxns2i9\" width = 70%> <br>"
   ]
  },
  {
   "cell_type": "markdown",
   "id": "ede4a08d",
   "metadata": {
    "slideshow": {
     "slide_type": "slide"
    }
   },
   "source": [
    "<div class=\"table-of-contents\" style=\"background-color:white;font-size:110%\">\n",
    "\n",
    "<h2 style=\"padding: 10px;\n",
    "              color:darkslategray;\">Jupyter Notebook\n",
    "    \n",
    "</h2>\n",
    "</div>\n",
    "\n",
    "<img style=\"float: left;\" src=\"https://lenguajecss.com/css/compatibilidad-navegadores/navegadores-web/main-browsers.png\" width = 80%> <br>"
   ]
  },
  {
   "cell_type": "markdown",
   "id": "0558e28b",
   "metadata": {
    "slideshow": {
     "slide_type": "slide"
    }
   },
   "source": [
    "\n",
    "<div class=\"table-of-contents\" style=\"background-color:white;font-size:110%\">\n",
    "\n",
    "<h2 style=\"padding: 10px;\n",
    "              color:darkslategray;\">Entorno\n",
    "    \n",
    "</h2>\n",
    "</div>\n",
    "\n",
    "<img style=\"float: left;\" src=\"https://www.dataquest.io/wp-content/uploads/2019/01/jupyter-dashboard.jpg\" width = 100%> <br>"
   ]
  },
  {
   "cell_type": "markdown",
   "id": "b0286d77",
   "metadata": {
    "slideshow": {
     "slide_type": "slide"
    }
   },
   "source": [
    "\n",
    "<div class=\"table-of-contents\" style=\"background-color:white;font-size:100%\">\n",
    "\n",
    "<h2 style=\"padding: 10px;\n",
    "              color:darkslategray;\">Opciones\n",
    "    \n",
    "</h2>\n",
    "</div>\n",
    "\n",
    "#### <font color = darkslategray>Documentos `ipynb`</font>\n",
    "\n",
    "<br>\n",
    "<img style=\"float: left;\" src=\"https://www.dataquest.io/wp-content/uploads/2024/05/jupyter-new-tab.png.webp\" width = 35%> \n",
    "</br>\n",
    "\n"
   ]
  },
  {
   "cell_type": "markdown",
   "id": "d8b5537e",
   "metadata": {
    "slideshow": {
     "slide_type": "slide"
    }
   },
   "source": [
    "\n",
    "<div class=\"table-of-contents\" style=\"background-color:white;font-size:110%\">\n",
    "\n",
    "<h2 style=\"padding: 10px;\n",
    "              color:darkslategray;\">Interfaz\n",
    "    \n",
    "</h2>\n",
    "</div>\n",
    "\n",
    "<img style=\"float: left;\" src=\"https://www.dataquest.io/wp-content/uploads/2019/01/new-notebook.jpg\" width = 100%> <br>"
   ]
  },
  {
   "cell_type": "markdown",
   "id": "ee8f0e2d",
   "metadata": {
    "slideshow": {
     "slide_type": "slide"
    }
   },
   "source": [
    "\n",
    "<div class=\"table-of-contents\" style=\"background-color:white;font-size:110%\">\n",
    "\n",
    "<h2 style=\"padding: 10px;\n",
    "              color:darkslategray;\">Celdas\n",
    "    \n",
    "</h2>\n",
    "</div>\n",
    "\n",
    "#### <font color = darkslategray>Código, Markdown, Texto plano, Encabezado</font>\n",
    "\n",
    "<img style=\"float: left;\" src=\"https://www.dataquest.io/wp-content/uploads/2019/01/new-notebook.jpg\" width = 100%> <br>\n",
    "\n",
    "<img style=\"float: left;\" src=\"https://www.dataquest.io/wp-content/uploads/2024/05/jupyter_notebook_print_hello_world.png\" width = 100%> <br>"
   ]
  },
  {
   "cell_type": "markdown",
   "id": "9f60536a",
   "metadata": {
    "slideshow": {
     "slide_type": "slide"
    }
   },
   "source": [
    "\n",
    "<div class=\"table-of-contents\" style=\"background-color:white;font-size:110%\">\n",
    "\n",
    "<h2 style=\"padding: 10px;\n",
    "              color:darkslategray;\">Código\n",
    "    \n",
    "</h2>\n",
    "</div>\n",
    "\n",
    "<img style=\"float: left;\" src=\"https://www.dataquest.io/wp-content/uploads/2024/05/jupyter_notebook_say_hello.png.webp\" width = 100%> <br>\n"
   ]
  },
  {
   "cell_type": "markdown",
   "id": "7d8f08dc",
   "metadata": {
    "slideshow": {
     "slide_type": "slide"
    }
   },
   "source": [
    "<div class=\"table-of-contents\" style=\"background-color:white;font-size:110%\">\n",
    "\n",
    "<h2 style=\"padding: 10px;\n",
    "              color:darkslategray;\">Visualización de Tablas\n",
    "    \n",
    "</h2>\n",
    "</div>\n",
    "\n",
    "<div class=\"table-responsive\"><table class=\"table table-bordered\">\n",
    "<thead>\n",
    "<tr>\n",
    "<th></th>\n",
    "<th>Year</th>\n",
    "<th>Rank</th>\n",
    "<th>Company</th>\n",
    "<th>Revenue (in millions)</th>\n",
    "<th>Profit (in millions)</th>\n",
    "</tr>\n",
    "</thead>\n",
    "<tbody>\n",
    "<tr>\n",
    "<th>0</th>\n",
    "<td>1955</td>\n",
    "<td>1</td>\n",
    "<td>General Motors</td>\n",
    "<td>9823.5</td>\n",
    "<td>806</td>\n",
    "</tr>\n",
    "<tr>\n",
    "<th>1</th>\n",
    "<td>1955</td>\n",
    "<td>2</td>\n",
    "<td>Exxon Mobil</td>\n",
    "<td>5661.4</td>\n",
    "<td>584.8</td>\n",
    "</tr>\n",
    "<tr>\n",
    "<th>2</th>\n",
    "<td>1955</td>\n",
    "<td>3</td>\n",
    "<td>U.S. Steel</td>\n",
    "<td>3250.4</td>\n",
    "<td>195.4</td>\n",
    "</tr>\n",
    "<tr>\n",
    "<th>3</th>\n",
    "<td>1955</td>\n",
    "<td>4</td>\n",
    "<td>General Electric</td>\n",
    "<td>2959.1</td>\n",
    "<td>212.6</td>\n",
    "</tr>\n",
    "<tr>\n",
    "<th>4</th>\n",
    "<td>1955</td>\n",
    "<td>5</td>\n",
    "<td>Esmark</td>\n",
    "<td>2510.8</td>\n",
    "<td>19.1</td>\n",
    "</tr>\n",
    "</tbody>\n",
    "</table></div>"
   ]
  },
  {
   "cell_type": "markdown",
   "id": "0b452a54",
   "metadata": {
    "slideshow": {
     "slide_type": "slide"
    }
   },
   "source": [
    "\n",
    "<div class=\"table-of-contents\" style=\"background-color:white;font-size:110%\">\n",
    "\n",
    "<h2 style=\"padding: 10px;\n",
    "              color:darkslategray;\">Bitácoras\n",
    "    \n",
    "</h2>\n",
    "</div>\n",
    "\n",
    "<img style=\"float: left;\" src=\"https://www.dataquest.io/wp-content/uploads/2019/01/notebook-running.jpg\" width = 100%> <br>\n"
   ]
  },
  {
   "cell_type": "markdown",
   "id": "189cd25d",
   "metadata": {
    "slideshow": {
     "slide_type": "slide"
    }
   },
   "source": [
    "\n",
    "<div class=\"table-of-contents\" style=\"background-color:white;font-size:110%\">\n",
    "\n",
    "<h2 style=\"padding: 10px;\n",
    "              color:darkslategray;\">Gráficos\n",
    "    \n",
    "</h2>\n",
    "</div>\n",
    "\n",
    "<img style=\"float: left;\" src=\"https://miro.medium.com/v2/resize:fit:1174/1*A4XTjaFKS2LJRn_42LHtPw.png\" width = 50%> <br>\n"
   ]
  },
  {
   "cell_type": "markdown",
   "id": "39e28ff3",
   "metadata": {
    "slideshow": {
     "slide_type": "slide"
    }
   },
   "source": [
    "\n",
    "<div class=\"table-of-contents\" style=\"background-color:white;font-size:110%\">\n",
    "\n",
    "<h2 style=\"padding: 10px;\n",
    "              color:darkslategray;\">Widgets\n",
    "    \n",
    "</h2>\n",
    "</div>\n",
    "\n",
    "<img style=\"float: left;\" src=\"https://estrategiastrading.com/wp-content/uploads/2020/01/Grafico_interactivo_python.gif\" width = 30%> <br>\n"
   ]
  },
  {
   "cell_type": "markdown",
   "id": "0124db78",
   "metadata": {
    "slideshow": {
     "slide_type": "slide"
    }
   },
   "source": [
    "<div class=\"table-of-contents\" style=\"background-color:white;font-size:150%\">\n",
    "\n",
    "<h2 style=\"padding: 10px;\n",
    "              color:darkslategray;\">Markdown\n",
    "    \n",
    "</h2>\n",
    "</div>\n",
    "\n",
    "<img style=\"float: left;\" src=\"https://res.cloudinary.com/edlitera/image/upload/c_fill,f_auto/v1594161194/blog/wnnrl4n17gum2uxns2i9\" width = 70%> <br>"
   ]
  },
  {
   "cell_type": "markdown",
   "id": "b10c378a",
   "metadata": {
    "slideshow": {
     "slide_type": "slide"
    }
   },
   "source": [
    "<div class=\"table-of-contents\" style=\"background-color:white;font-size:100%\">\n",
    "\n",
    "<h2 style=\"padding: 10px;\n",
    "              color:darkslategray;\">Markdown\n",
    "    \n",
    "</h2>\n",
    "</div>\n",
    "\n",
    "<img style=\"float: left;\" src=\"https://i.imgur.com/vl7Fmg9.png\" width = 85%> <br>"
   ]
  },
  {
   "cell_type": "markdown",
   "id": "89f1786c",
   "metadata": {
    "slideshow": {
     "slide_type": "slide"
    }
   },
   "source": [
    "<div class=\"table-of-contents\" style=\"background-color:white;font-size:100%\">\n",
    "\n",
    "<h2 style=\"padding: 10px;\n",
    "              color:darkslategray;\">Markdown\n",
    "    \n",
    "</h2>\n",
    "</div>\n",
    "\n",
    "<img style=\"float: left;\" src=\"https://miro.medium.com/v2/resize:fit:1400/1*kSB9Qaye64hASDrkhGr-JA.gif\" width = 100%> <br>"
   ]
  },
  {
   "cell_type": "markdown",
   "id": "01a21bc9",
   "metadata": {
    "slideshow": {
     "slide_type": "slide"
    }
   },
   "source": [
    "<div class=\"table-of-contents\" style=\"background-color:white;font-size:100%\">\n",
    "\n",
    "<h2 style=\"padding: 10px;\n",
    "              color:darkslategray;\">Markdown: imágenes desde la web\n",
    "    \n",
    "</h2>\n",
    "</div>\n",
    "\n",
    "### [El estudio que afirma que el interior de la Tierra se está enfriando más rápido de lo esperado (y las consecuencias que implica para la evolución del planeta)](https://www.bbc.com/mundo/noticias-60031016)  \n",
    "<img style=\"float: left;\" src=\"https://ichef.bbci.co.uk/ace/ws/640/cpsprodpb/52C9/production/_122739112_gettyimages-1199314969.jpg.webp\" width = 50%> <br>"
   ]
  },
  {
   "cell_type": "markdown",
   "id": "6ea278cf",
   "metadata": {
    "slideshow": {
     "slide_type": "slide"
    }
   },
   "source": [
    "# Curso avanzado\n",
    "## Curso avanzado\n",
    "### Curso\n",
    "#### Curso"
   ]
  },
  {
   "cell_type": "markdown",
   "id": "1c88457e",
   "metadata": {
    "slideshow": {
     "slide_type": "-"
    }
   },
   "source": [
    "# Curso avanzado\n",
    "## Curso avanzado\n",
    "### Curso\n",
    "#### Curso"
   ]
  },
  {
   "cell_type": "markdown",
   "id": "20f2b1e3",
   "metadata": {
    "slideshow": {
     "slide_type": "slide"
    }
   },
   "source": [
    "En este curso voy a aprender a usar las estructuras de datos.  \n",
    "Además, voy a usar las bitácoras de Jupyter Notebook."
   ]
  },
  {
   "cell_type": "markdown",
   "id": "5bb4fcc8",
   "metadata": {
    "slideshow": {
     "slide_type": "-"
    }
   },
   "source": [
    "En este curso voy a aprender a usar las estructuras de datos.  \n",
    "Además, voy a usar las bitácoras de Jupyter Notebook."
   ]
  },
  {
   "cell_type": "markdown",
   "id": "d5ce2900",
   "metadata": {
    "slideshow": {
     "slide_type": "slide"
    }
   },
   "source": [
    "*Saccharomyces cerevisiae*"
   ]
  },
  {
   "cell_type": "markdown",
   "id": "b52393f3",
   "metadata": {
    "slideshow": {
     "slide_type": "-"
    }
   },
   "source": [
    "*Saccharomyces cerevisiae*"
   ]
  },
  {
   "cell_type": "markdown",
   "id": "a8d2c6f8",
   "metadata": {
    "slideshow": {
     "slide_type": "slide"
    }
   },
   "source": [
    "## Título\n",
    "Curso avanzado de **Python**. El organismo *Saccharomyces cerevisiae* es usado en el área alimenticia."
   ]
  },
  {
   "cell_type": "markdown",
   "id": "219b5294",
   "metadata": {
    "slideshow": {
     "slide_type": "-"
    }
   },
   "source": [
    "## Título\n",
    "Curso avanzado de **Python**. El organismo *Saccharomyces cerevisiae* es usado en el área alimenticia."
   ]
  },
  {
   "cell_type": "markdown",
   "id": "fbb7917a",
   "metadata": {
    "slideshow": {
     "slide_type": "slide"
    }
   },
   "source": [
    "### Lista\n",
    "\n",
    "* Química\n",
    "* Física\n",
    "* Bioquímica"
   ]
  },
  {
   "cell_type": "markdown",
   "id": "b411af77",
   "metadata": {
    "slideshow": {
     "slide_type": "-"
    }
   },
   "source": [
    "### Lista\n",
    "\n",
    "* Química\n",
    "* Física\n",
    "* Bioquímica"
   ]
  },
  {
   "cell_type": "markdown",
   "id": "87ebf5fe",
   "metadata": {
    "slideshow": {
     "slide_type": "slide"
    }
   },
   "source": [
    "1. <font color = orange>Matemáticas\n",
    "   * I. Mate 1\n",
    "   * II. Mate 2\n",
    "      * Mate 3</font>\n",
    "2. <font color = grey>Estadística  \n",
    "   * A. Estad 1  \n",
    "   * B. Estad 2</font>"
   ]
  },
  {
   "cell_type": "markdown",
   "id": "292e56e5",
   "metadata": {
    "slideshow": {
     "slide_type": "-"
    }
   },
   "source": [
    "1. <font color = orange>Matemáticas\n",
    "   * I. Mate 1\n",
    "   * II. Mate 2\n",
    "      * Mate 3</font>\n",
    "2. <font color = grey>Estadística  \n",
    "   * A. Estad 1  \n",
    "   * B. Estad 2</font>"
   ]
  },
  {
   "cell_type": "code",
   "execution_count": null,
   "id": "cb491a87",
   "metadata": {
    "slideshow": {
     "slide_type": "skip"
    }
   },
   "outputs": [],
   "source": []
  },
  {
   "cell_type": "markdown",
   "id": "4e3f5501",
   "metadata": {
    "slideshow": {
     "slide_type": "skip"
    }
   },
   "source": [
    "# Sitio de las bitácoras.\n",
    "# https://github.com/eduardo1011/curso_marzo_2025"
   ]
  },
  {
   "cell_type": "code",
   "execution_count": null,
   "id": "e93094ed",
   "metadata": {},
   "outputs": [],
   "source": []
  }
 ],
 "metadata": {
  "celltoolbar": "Slideshow",
  "kernelspec": {
   "display_name": "Python 3 (ipykernel)",
   "language": "python",
   "name": "python3"
  },
  "language_info": {
   "codemirror_mode": {
    "name": "ipython",
    "version": 3
   },
   "file_extension": ".py",
   "mimetype": "text/x-python",
   "name": "python",
   "nbconvert_exporter": "python",
   "pygments_lexer": "ipython3",
   "version": "3.12.2"
  }
 },
 "nbformat": 4,
 "nbformat_minor": 5
}
