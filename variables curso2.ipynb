{
 "cells": [
  {
   "cell_type": "markdown",
   "id": "bdabf3e9",
   "metadata": {
    "slideshow": {
     "slide_type": "skip"
    }
   },
   "source": [
    "### VARIABLES"
   ]
  },
  {
   "cell_type": "markdown",
   "id": "e888a807",
   "metadata": {
    "slideshow": {
     "slide_type": "slide"
    }
   },
   "source": [
    "<div style=\"text-align: center; font-size: 60px; font-weight: bold; color: blue;\">\n",
    "    ¡VARIABLES!\n",
    "</div>\n",
    "\n",
    "# En programación, las variables se utilizan para almacenar valores de datos. Cada variable tiene un nombre y tiene un valor. 📦\n",
    "\n",
    "\n",
    "<div style=\"text-align: center;\">\n",
    "    <img src=\"https://i.imgur.com/Up9iS52.gif\" alt=\"Texto alternativo\" />\n",
    "</div>\n",
    "\n",
    "<div style=\"text-align: center; font-size: 30px; font-weight: bold;\">\n",
    "     Qué se puede guardar en una variable\n",
    "</div>\n",
    "\n",
    "<table>\n",
    "  <tr>\n",
    "    <th style=\"color: red; font-size: 38px;\">Objeto</th>\n",
    "    <th style=\"color: red; font-size: 38px;\">Tipo de Dato</th>\n",
    "  </tr>\n",
    "  <tr>\n",
    "    <td style=\"color: black; font-size: 26px;\">Números</td>\n",
    "    <td style=\"color: black; font-size: 26px;\">float (números de punto flotante), int (enteros)</td>\n",
    "  </tr>\n",
    "  <tr>\n",
    "    <td style=\"color: black; font-size: 26px;\">Cadenas de caracteres</td>\n",
    "    <td style=\"color: black; font-size: 26px;\">str (string)</td>\n",
    "  </tr>\n",
    "  <tr>\n",
    "    <td style=\"color: black; font-size: 26px;\">Arreglos</td>\n",
    "    <td style=\"color: black; font-size: 26px;\">No es un tipo de dato específico en Python, pero se puede usar listas o tuplas</td>\n",
    "  </tr>\n",
    "  <tr>\n",
    "    <td style=\"color: black; font-size: 26px;\">Listas</td>\n",
    "    <td style=\"color: black; font-size: 26px;\">list (listas en Python)</td>\n",
    "  </tr>\n",
    "  <tr>\n",
    "    <td style=\"color: black; font-size: 26px;\">Diccionarios</td>\n",
    "    <td style=\"color: black; font-size: 26px;\">dict (diccionarios en Python)</td>\n",
    "  </tr>\n",
    "  <tr>\n",
    "    <td style=\"color: black; font-size: 26px;\">Tuplas</td>\n",
    "    <td style=\"color: black; font-size: 26px;\">tuple (tuplas en Python)</td>\n",
    "  </tr>\n",
    "  <tr>\n",
    "    <td style=\"color: black; font-size: 26px;\">Data Frame</td>\n",
    "    <td style=\"color: black; font-size: 26px;\">pandas.DataFrame (estructura de datos de pandas)</td>\n",
    "  </tr>\n",
    "  <tr>\n",
    "    <td style=\"color: black; font-size: 26px;\">Conjuntos</td>\n",
    "    <td style=\"color: black; font-size: 26px;\">set (conjuntos en Python)</td>\n",
    "  </tr>\n",
    "</table>"
   ]
  },
  {
   "cell_type": "markdown",
   "id": "bded3f76",
   "metadata": {
    "slideshow": {
     "slide_type": "slide"
    }
   },
   "source": [
    "<div style=\"text-align: center; font-size: 60px; font-weight: bold; color: blue;\">\n",
    "    ¡OBJETOS!\n",
    "</div>\n",
    "\n",
    "\n",
    "<div style=\"text-align: center;\">\n",
    "    <img src=\"https://i.imgur.com/xUtg1n2.gif\" alt=\"Texto alternativo\" />\n",
    "</div>\n",
    "\n",
    "# Un entero, o int, es un número entero. No tiene punto decimal y contiene el número 0, números contables positivos y negativos.\n",
    "# Un número de punto flotante, o a float, es un número decimal. Se puede utilizar para representar fracciones o medidas precisas. \n",
    "# Una cadena, o str, se utiliza para almacenar texto. Las cadenas se encierran entre comillas dobles \" \"o simples ' '.\n",
    "# Un tipo de datos booleano, o bool, almacena un valor que solo puede ser verdadero o falso. En Python, se escribe con mayúscula Trueo False"
   ]
  },
  {
   "cell_type": "markdown",
   "id": "41c2fdbc",
   "metadata": {
    "slideshow": {
     "slide_type": "slide"
    }
   },
   "source": [
    "<div style=\"text-align: center; font-size: 60px; font-weight: bold; color: red;\">\n",
    "    ¡EJEMPLOS!\n",
    "</div>\n"
   ]
  },
  {
   "cell_type": "code",
   "execution_count": null,
   "id": "98d872bd",
   "metadata": {
    "slideshow": {
     "slide_type": "subslide"
    }
   },
   "outputs": [],
   "source": []
  },
  {
   "cell_type": "code",
   "execution_count": null,
   "id": "a87fc2f2",
   "metadata": {},
   "outputs": [],
   "source": []
  },
  {
   "cell_type": "code",
   "execution_count": null,
   "id": "1d0c0060",
   "metadata": {
    "slideshow": {
     "slide_type": "-"
    }
   },
   "outputs": [],
   "source": []
  },
  {
   "cell_type": "code",
   "execution_count": null,
   "id": "dbcf98a8",
   "metadata": {
    "slideshow": {
     "slide_type": "-"
    }
   },
   "outputs": [],
   "source": []
  },
  {
   "cell_type": "code",
   "execution_count": null,
   "id": "b0bd940d",
   "metadata": {
    "slideshow": {
     "slide_type": "-"
    }
   },
   "outputs": [],
   "source": []
  },
  {
   "cell_type": "code",
   "execution_count": null,
   "id": "17ec71e4",
   "metadata": {
    "slideshow": {
     "slide_type": "-"
    }
   },
   "outputs": [],
   "source": []
  },
  {
   "cell_type": "code",
   "execution_count": null,
   "id": "09c7f9b9",
   "metadata": {
    "slideshow": {
     "slide_type": "-"
    }
   },
   "outputs": [],
   "source": []
  },
  {
   "cell_type": "code",
   "execution_count": null,
   "id": "db923073",
   "metadata": {
    "slideshow": {
     "slide_type": "-"
    }
   },
   "outputs": [],
   "source": []
  },
  {
   "cell_type": "code",
   "execution_count": null,
   "id": "6e1dff3c",
   "metadata": {},
   "outputs": [],
   "source": []
  },
  {
   "cell_type": "code",
   "execution_count": null,
   "id": "98e35ca6",
   "metadata": {},
   "outputs": [],
   "source": []
  },
  {
   "cell_type": "code",
   "execution_count": null,
   "id": "b0a03399",
   "metadata": {},
   "outputs": [],
   "source": []
  },
  {
   "cell_type": "code",
   "execution_count": null,
   "id": "660b2cdc",
   "metadata": {
    "slideshow": {
     "slide_type": "subslide"
    }
   },
   "outputs": [],
   "source": []
  },
  {
   "cell_type": "code",
   "execution_count": null,
   "id": "1f94ec88",
   "metadata": {
    "slideshow": {
     "slide_type": "-"
    }
   },
   "outputs": [],
   "source": []
  },
  {
   "cell_type": "code",
   "execution_count": null,
   "id": "14bcfc56",
   "metadata": {
    "slideshow": {
     "slide_type": "-"
    }
   },
   "outputs": [],
   "source": []
  },
  {
   "cell_type": "code",
   "execution_count": null,
   "id": "64055180",
   "metadata": {
    "slideshow": {
     "slide_type": "-"
    }
   },
   "outputs": [],
   "source": []
  },
  {
   "cell_type": "code",
   "execution_count": null,
   "id": "fb5837de",
   "metadata": {
    "slideshow": {
     "slide_type": "-"
    }
   },
   "outputs": [],
   "source": []
  },
  {
   "cell_type": "code",
   "execution_count": null,
   "id": "c853ca59",
   "metadata": {
    "slideshow": {
     "slide_type": "-"
    }
   },
   "outputs": [],
   "source": []
  },
  {
   "cell_type": "code",
   "execution_count": null,
   "id": "b1bf3b93",
   "metadata": {
    "slideshow": {
     "slide_type": "-"
    }
   },
   "outputs": [],
   "source": []
  },
  {
   "cell_type": "code",
   "execution_count": null,
   "id": "480c355f",
   "metadata": {
    "slideshow": {
     "slide_type": "-"
    }
   },
   "outputs": [],
   "source": []
  },
  {
   "cell_type": "code",
   "execution_count": null,
   "id": "3b595f26",
   "metadata": {
    "slideshow": {
     "slide_type": "subslide"
    }
   },
   "outputs": [],
   "source": []
  },
  {
   "cell_type": "code",
   "execution_count": null,
   "id": "4b134bee",
   "metadata": {
    "slideshow": {
     "slide_type": "-"
    }
   },
   "outputs": [],
   "source": []
  },
  {
   "cell_type": "code",
   "execution_count": null,
   "id": "ea890d4d",
   "metadata": {
    "slideshow": {
     "slide_type": "-"
    }
   },
   "outputs": [],
   "source": []
  },
  {
   "cell_type": "code",
   "execution_count": null,
   "id": "c239eef5",
   "metadata": {
    "slideshow": {
     "slide_type": "-"
    }
   },
   "outputs": [],
   "source": []
  },
  {
   "cell_type": "code",
   "execution_count": null,
   "id": "62af0608",
   "metadata": {
    "slideshow": {
     "slide_type": "-"
    }
   },
   "outputs": [],
   "source": []
  },
  {
   "cell_type": "code",
   "execution_count": 6,
   "id": "78733733",
   "metadata": {
    "slideshow": {
     "slide_type": "subslide"
    }
   },
   "outputs": [
    {
     "ename": "NameError",
     "evalue": "name 'Variable12' is not defined",
     "output_type": "error",
     "traceback": [
      "\u001b[0;31m---------------------------------------------------------------------------\u001b[0m",
      "\u001b[0;31mNameError\u001b[0m                                 Traceback (most recent call last)",
      "Cell \u001b[0;32mIn[6], line 10\u001b[0m\n\u001b[1;32m      8\u001b[0m variable8 \u001b[38;5;241m=\u001b[39m \u001b[38;5;28mset\u001b[39m(Variable6)\n\u001b[1;32m      9\u001b[0m variable9 \u001b[38;5;241m=\u001b[39m [\u001b[38;5;241m1\u001b[39m, \u001b[38;5;241m3\u001b[39m, \u001b[38;5;241m5\u001b[39m, \u001b[38;5;241m7\u001b[39m, \u001b[38;5;241m11\u001b[39m, \u001b[38;5;241m13\u001b[39m, \u001b[38;5;241m17\u001b[39m, \u001b[38;5;241m19\u001b[39m, \u001b[38;5;241m23\u001b[39m]\n\u001b[0;32m---> 10\u001b[0m Variable10\u001b[38;5;241m=\u001b[39m \u001b[38;5;28mset\u001b[39m(\u001b[43mVariable12\u001b[49m)\n",
      "\u001b[0;31mNameError\u001b[0m: name 'Variable12' is not defined"
     ]
    }
   ],
   "source": [
    "Variable1 = 3.1416\n",
    "Variable2 = 5\n",
    "variable3 = {'Metionina':'AUG','Stop1':'UAA','Stop2':'UAG','Stop3':'UGA'}\n",
    "variable4 ='299.792,458'\n",
    "Variable5 = 'atgcccgggtagatcgatgcccgatagcctagactagctagctagctttgggggtagctgatcgtagctgatuag'\n",
    "Variable6 = [1, 1.5, 6, 7.8, 10, 4.3, 9, 7, 34, 50, 100, 19, 23]\n",
    "Variable7 = sum(Variable6)\n",
    "variable8 = set(Variable6)\n",
    "variable9 = [1, 3, 5, 7, 11, 13, 17, 19, 23]\n",
    "Variable10= set(Variable12)"
   ]
  },
  {
   "cell_type": "code",
   "execution_count": null,
   "id": "a083616b",
   "metadata": {
    "slideshow": {
     "slide_type": "-"
    }
   },
   "outputs": [],
   "source": []
  },
  {
   "cell_type": "code",
   "execution_count": null,
   "id": "31f4a8b2",
   "metadata": {
    "slideshow": {
     "slide_type": "-"
    }
   },
   "outputs": [],
   "source": []
  },
  {
   "cell_type": "code",
   "execution_count": null,
   "id": "2b221d5d",
   "metadata": {
    "slideshow": {
     "slide_type": "-"
    }
   },
   "outputs": [],
   "source": []
  },
  {
   "cell_type": "code",
   "execution_count": null,
   "id": "694c1b8c",
   "metadata": {
    "slideshow": {
     "slide_type": "-"
    }
   },
   "outputs": [],
   "source": []
  },
  {
   "cell_type": "code",
   "execution_count": null,
   "id": "459afcfb",
   "metadata": {
    "slideshow": {
     "slide_type": "-"
    }
   },
   "outputs": [],
   "source": []
  },
  {
   "cell_type": "code",
   "execution_count": null,
   "id": "1cd722ab",
   "metadata": {
    "slideshow": {
     "slide_type": "-"
    }
   },
   "outputs": [],
   "source": []
  },
  {
   "cell_type": "code",
   "execution_count": null,
   "id": "3d915933",
   "metadata": {
    "slideshow": {
     "slide_type": "-"
    }
   },
   "outputs": [],
   "source": []
  },
  {
   "cell_type": "code",
   "execution_count": null,
   "id": "c0b5000e",
   "metadata": {
    "slideshow": {
     "slide_type": "-"
    }
   },
   "outputs": [],
   "source": []
  },
  {
   "cell_type": "markdown",
   "id": "7cdc5a91",
   "metadata": {
    "slideshow": {
     "slide_type": "slide"
    }
   },
   "source": [
    "<div style=\"text-align: center; font-size: 60px; font-weight: bold; color: red;\">\n",
    "    ¡ O J O !\n",
    "</div>\n",
    "\n",
    "<div style=\"text-align: center;\">\n",
    "    <img src=\"https://i.imgur.com/SFhfrt0.gif\" alt=\"Texto alternativo\" />\n",
    "</div>\n",
    "\n",
    "<div style=\"text-align: center; font-size: 60px; font-weight: bold; color: blue;\">\n",
    "    FUNCIONES INTEGRADAS\n",
    "</div>\n",
    "\n",
    "# Es recomendable evitar utilizar los nombres de las funciones integradas al definir variables, ya que si más adelante se intenta utilizar la función original, se producirá un error debido a que la función habrá sido reemplazada por la variable.\n",
    "\n"
   ]
  },
  {
   "cell_type": "markdown",
   "id": "c64db5fb",
   "metadata": {
    "slideshow": {
     "slide_type": "slide"
    }
   },
   "source": [
    "<table style=\"border-collapse: collapse; width: 100%; text-align: center;\">\n",
    "    <thead>\n",
    "        <tr>\n",
    "            <th style=\"color: red; font-size: 20px; padding: 10px; border: 1px solid black;\">Función</th>\n",
    "            <th style=\"color: red; font-size: 20px; padding: 10px; border: 1px solid black;\">Descripción</th>\n",
    "        </tr>\n",
    "    </thead>\n",
    "    <tbody>\n",
    "        <tr>\n",
    "            <td style=\"font-size: 16px; padding: 8px; border: 1px solid black;\">set()</td>\n",
    "            <td style=\"font-size: 16px; padding: 8px; border: 1px solid black;\">Devuelve un conjunto</td>\n",
    "        </tr>\n",
    "        <tr>\n",
    "            <td style=\"font-size: 16px; padding: 8px; border: 1px solid black;\">dict()</td>\n",
    "            <td style=\"font-size: 16px; padding: 8px; border: 1px solid black;\">Devuelve un diccionario</td>\n",
    "        </tr>\n",
    "        <tr>\n",
    "            <td style=\"font-size: 16px; padding: 8px; border: 1px solid black;\">help()</td>\n",
    "            <td style=\"font-size: 16px; padding: 8px; border: 1px solid black;\">Da información sobre módulos</td>\n",
    "        </tr>\n",
    "        <tr>\n",
    "            <td style=\"font-size: 16px; padding: 8px; border: 1px solid black;\">min()</td>\n",
    "            <td style=\"font-size: 16px; padding: 8px; border: 1px solid black;\">Devuelve el valor mínimo de una lista, arreglo o Dataframe</td>\n",
    "        </tr>\n",
    "        <tr>\n",
    "            <td style=\"font-size: 16px; padding: 8px; border: 1px solid black;\">dir()</td>\n",
    "            <td style=\"font-size: 16px; padding: 8px; border: 1px solid black;\">Devuelve las variables definidas</td>\n",
    "        </tr>\n",
    "        <tr>\n",
    "            <td style=\"font-size: 16px; padding: 8px; border: 1px solid black;\">enumerate()</td>\n",
    "            <td style=\"font-size: 16px; padding: 8px; border: 1px solid black;\">Enumera una lista empezando por cero</td>\n",
    "        </tr>\n",
    "        <tr>\n",
    "            <td style=\"font-size: 16px; padding: 8px; border: 1px solid black;\">input()</td>\n",
    "            <td style=\"font-size: 16px; padding: 8px; border: 1px solid black;\">Función interactiva para ingresar valores</td>\n",
    "        </tr>\n",
    "        <tr>\n",
    "            <td style=\"font-size: 16px; padding: 8px; border: 1px solid black;\">int()</td>\n",
    "            <td style=\"font-size: 16px; padding: 8px; border: 1px solid black;\">Devuelve números enteros</td>\n",
    "        </tr>\n",
    "        <tr>\n",
    "            <td style=\"font-size: 16px; padding: 8px; border: 1px solid black;\">str()</td>\n",
    "            <td style=\"font-size: 16px; padding: 8px; border: 1px solid black;\">Devuelve un string o cadena de caracteres</td>\n",
    "        </tr>\n",
    "        <tr>\n",
    "            <td style=\"font-size: 16px; padding: 8px; border: 1px solid black;\">sum()</td>\n",
    "            <td style=\"font-size: 16px; padding: 8px; border: 1px solid black;\">Suma los valores de una lista o arreglo</td>\n",
    "        </tr>\n",
    "        <tr>\n",
    "            <td style=\"font-size: 16px; padding: 8px; border: 1px solid black;\">float()</td>\n",
    "            <td style=\"font-size: 16px; padding: 8px; border: 1px solid black;\">Devuelve un número de punto flotante</td>\n",
    "        </tr>\n",
    "        <tr>\n",
    "            <td style=\"font-size: 16px; padding: 8px; border: 1px solid black;\">print()</td>\n",
    "            <td style=\"font-size: 16px; padding: 8px; border: 1px solid black;\">Imprime una variable</td>\n",
    "        </tr>\n",
    "        <tr>\n",
    "            <td style=\"font-size: 16px; padding: 8px; border: 1px solid black;\">tuple()</td>\n",
    "            <td style=\"font-size: 16px; padding: 8px; border: 1px solid black;\">Devuelve una tupla (una lista inmutable)</td>\n",
    "        </tr>\n",
    "        <tr>\n",
    "            <td style=\"font-size: 16px; padding: 8px; border: 1px solid black;\">len()</td>\n",
    "            <td style=\"font-size: 16px; padding: 8px; border: 1px solid black;\">Devuelve la longitud de un objeto</td>\n",
    "        </tr>\n",
    "        <tr>\n",
    "            <td style=\"font-size: 16px; padding: 8px; border: 1px solid black;\">type()</td>\n",
    "            <td style=\"font-size: 16px; padding: 8px; border: 1px solid black;\">Devuelve el tipo del objeto</td>\n",
    "        </tr>\n",
    "        <tr>\n",
    "            <td style=\"font-size: 16px; padding: 8px; border: 1px solid black;\">list()</td>\n",
    "            <td style=\"font-size: 16px; padding: 8px; border: 1px solid black;\">Devuelve una lista</td>\n",
    "        </tr>\n",
    "        <tr>\n",
    "            <td style=\"font-size: 16px; padding: 8px; border: 1px solid black;\">range()</td>\n",
    "            <td style=\"font-size: 16px; padding: 8px; border: 1px solid black;\">Devuelve un rango de números</td>\n",
    "        </tr>\n",
    "        <tr>\n",
    "            <td style=\"font-size: 16px; padding: 8px; border: 1px solid black;\">zip()</td>\n",
    "            <td style=\"font-size: 16px; padding: 8px; border: 1px solid black;\">Une iterables de dos elementos iterables</td>\n",
    "        </tr>\n",
    "        <tr>\n",
    "            <td style=\"font-size: 16px; padding: 8px; border: 1px solid black;\">reversed()</td>\n",
    "            <td style=\"font-size: 16px; padding: 8px; border: 1px solid black;\">Devuelve el reverso de una lista</td>\n",
    "        </tr>\n",
    "        <tr>\n",
    "            <td style=\"font-size: 16px; padding: 8px; border: 1px solid black;\">max()</td>\n",
    "            <td style=\"font-size: 16px; padding: 8px; border: 1px solid black;\">Devuelve el valor máximo de una lista, arreglo o Dataframe</td>\n",
    "        </tr>\n",
    "        <tr>\n",
    "            <td style=\"font-size: 16px; padding: 8px; border: 1px solid black;\">round()</td>\n",
    "            <td style=\"font-size: 16px; padding: 8px; border: 1px solid black;\">Redondea un número de punto flotante</td>\n",
    "        </tr>\n",
    "    </tbody>\n",
    "</table>\n"
   ]
  },
  {
   "cell_type": "code",
   "execution_count": 37,
   "id": "ab3f2955",
   "metadata": {
    "slideshow": {
     "slide_type": "subslide"
    }
   },
   "outputs": [
    {
     "data": {
      "text/plain": [
       "3"
      ]
     },
     "execution_count": 37,
     "metadata": {},
     "output_type": "execute_result"
    }
   ],
   "source": [
    "round(pi)"
   ]
  },
  {
   "cell_type": "code",
   "execution_count": 36,
   "id": "644c8ed9",
   "metadata": {
    "slideshow": {
     "slide_type": "-"
    }
   },
   "outputs": [
    {
     "data": {
      "text/plain": [
       "99"
      ]
     },
     "execution_count": 36,
     "metadata": {},
     "output_type": "execute_result"
    }
   ],
   "source": [
    "sum(variable9)"
   ]
  },
  {
   "cell_type": "code",
   "execution_count": 2,
   "id": "099a548f",
   "metadata": {
    "slideshow": {
     "slide_type": "-"
    }
   },
   "outputs": [],
   "source": [
    "len= 10"
   ]
  },
  {
   "cell_type": "code",
   "execution_count": 3,
   "id": "f3cc15df",
   "metadata": {
    "slideshow": {
     "slide_type": "-"
    }
   },
   "outputs": [
    {
     "data": {
      "text/plain": [
       "10"
      ]
     },
     "execution_count": 3,
     "metadata": {},
     "output_type": "execute_result"
    }
   ],
   "source": [
    "len"
   ]
  },
  {
   "cell_type": "code",
   "execution_count": 7,
   "id": "1050500e",
   "metadata": {
    "slideshow": {
     "slide_type": "-"
    }
   },
   "outputs": [
    {
     "ename": "TypeError",
     "evalue": "'int' object is not callable",
     "output_type": "error",
     "traceback": [
      "\u001b[0;31m---------------------------------------------------------------------------\u001b[0m",
      "\u001b[0;31mTypeError\u001b[0m                                 Traceback (most recent call last)",
      "Cell \u001b[0;32mIn[7], line 1\u001b[0m\n\u001b[0;32m----> 1\u001b[0m \u001b[38;5;28;43mlen\u001b[39;49m\u001b[43m(\u001b[49m\u001b[43mVariable5\u001b[49m\u001b[43m)\u001b[49m\n",
      "\u001b[0;31mTypeError\u001b[0m: 'int' object is not callable"
     ]
    }
   ],
   "source": [
    "len(Variable5)"
   ]
  },
  {
   "cell_type": "code",
   "execution_count": 8,
   "id": "e24269b5",
   "metadata": {
    "slideshow": {
     "slide_type": "-"
    }
   },
   "outputs": [],
   "source": [
    "del(len)"
   ]
  },
  {
   "cell_type": "code",
   "execution_count": 9,
   "id": "06fa8c4b",
   "metadata": {
    "slideshow": {
     "slide_type": "-"
    }
   },
   "outputs": [
    {
     "data": {
      "text/plain": [
       "<function len(obj, /)>"
      ]
     },
     "execution_count": 9,
     "metadata": {},
     "output_type": "execute_result"
    }
   ],
   "source": [
    "len"
   ]
  },
  {
   "cell_type": "code",
   "execution_count": 10,
   "id": "a4e3465c",
   "metadata": {
    "slideshow": {
     "slide_type": "-"
    }
   },
   "outputs": [
    {
     "data": {
      "text/plain": [
       "75"
      ]
     },
     "execution_count": 10,
     "metadata": {},
     "output_type": "execute_result"
    }
   ],
   "source": [
    "len(Variable5)"
   ]
  },
  {
   "cell_type": "code",
   "execution_count": 12,
   "id": "72a85c00",
   "metadata": {
    "slideshow": {
     "slide_type": "-"
    }
   },
   "outputs": [],
   "source": [
    "b ='299792.4158'"
   ]
  },
  {
   "cell_type": "code",
   "execution_count": 13,
   "id": "abd50be3",
   "metadata": {
    "slideshow": {
     "slide_type": "-"
    }
   },
   "outputs": [
    {
     "data": {
      "text/plain": [
       "299792.4"
      ]
     },
     "execution_count": 13,
     "metadata": {},
     "output_type": "execute_result"
    }
   ],
   "source": [
    "round(float(b),1)"
   ]
  },
  {
   "cell_type": "code",
   "execution_count": 31,
   "id": "01c83025",
   "metadata": {
    "slideshow": {
     "slide_type": "subslide"
    }
   },
   "outputs": [],
   "source": [
    "j ='6'"
   ]
  },
  {
   "cell_type": "code",
   "execution_count": 32,
   "id": "add9eb9f",
   "metadata": {
    "slideshow": {
     "slide_type": "-"
    }
   },
   "outputs": [],
   "source": [
    "ñ= int(j)"
   ]
  },
  {
   "cell_type": "code",
   "execution_count": 33,
   "id": "9c6599d0",
   "metadata": {
    "slideshow": {
     "slide_type": "-"
    }
   },
   "outputs": [
    {
     "data": {
      "text/plain": [
       "6"
      ]
     },
     "execution_count": 33,
     "metadata": {},
     "output_type": "execute_result"
    }
   ],
   "source": [
    "ñ"
   ]
  },
  {
   "cell_type": "code",
   "execution_count": 34,
   "id": "18a57060",
   "metadata": {
    "slideshow": {
     "slide_type": "-"
    }
   },
   "outputs": [
    {
     "data": {
      "text/plain": [
       "'6'"
      ]
     },
     "execution_count": 34,
     "metadata": {},
     "output_type": "execute_result"
    }
   ],
   "source": [
    "str(int(j))"
   ]
  },
  {
   "cell_type": "markdown",
   "id": "d1ff6af9",
   "metadata": {
    "slideshow": {
     "slide_type": "slide"
    }
   },
   "source": [
    "<div style=\"text-align: center; font-size: 60px; font-weight: bold; color: red;\">\n",
    "    ¡ EJERCICIOS !\n",
    "</div>\n",
    "\n",
    "<div style=\"text-align: center;\">\n",
    "    <img src=\"https://i.imgur.com/SJk61Aq.gif\" alt=\"Texto alternativo\" />\n",
    "</div>"
   ]
  },
  {
   "cell_type": "code",
   "execution_count": 11,
   "id": "50d163c7",
   "metadata": {
    "slideshow": {
     "slide_type": "subslide"
    }
   },
   "outputs": [],
   "source": [
    "x = 3.14  \n",
    "t = \"Hola\"  \n",
    "z = True  \n",
    "w = 5\n",
    "a = {'Metionina':'AUG','Stop1':'UAA','Stop2':'UAG','Stop3':'UGA'}\n",
    "b ='299792.4158'\n",
    "c = 'atgcccgggtagatcgatgcccgatagcctagactagctagctagctttgggggtagctgatcgtagctgatuag'\n",
    "d = [1, 1.5, 6, 7.8, 10, 4.3, 9, 7, 34, 50, 100, 19, 23]\n",
    "e = 'mundo'\n",
    "j ='6'"
   ]
  },
  {
   "cell_type": "markdown",
   "id": "ba019ed0",
   "metadata": {
    "slideshow": {
     "slide_type": "-"
    }
   },
   "source": [
    "## <font color = blue> 1. Indica qué tipo de variable son las variables x, t, z, a y d </font> "
   ]
  },
  {
   "cell_type": "code",
   "execution_count": null,
   "id": "066b7a9b",
   "metadata": {
    "slideshow": {
     "slide_type": "-"
    }
   },
   "outputs": [],
   "source": []
  },
  {
   "cell_type": "code",
   "execution_count": null,
   "id": "3171b09f",
   "metadata": {
    "slideshow": {
     "slide_type": "-"
    }
   },
   "outputs": [],
   "source": []
  },
  {
   "cell_type": "markdown",
   "id": "c5bfafe5",
   "metadata": {
    "slideshow": {
     "slide_type": "subslide"
    }
   },
   "source": [
    "## <font color = green> 2. ¿Cuántos nucleótidos tiene la Variable c? </font>"
   ]
  },
  {
   "cell_type": "code",
   "execution_count": null,
   "id": "bbaf1580",
   "metadata": {
    "slideshow": {
     "slide_type": "-"
    }
   },
   "outputs": [],
   "source": []
  },
  {
   "cell_type": "code",
   "execution_count": null,
   "id": "e3ad9bb5",
   "metadata": {
    "slideshow": {
     "slide_type": "-"
    }
   },
   "outputs": [],
   "source": []
  },
  {
   "cell_type": "markdown",
   "id": "87c46f3b",
   "metadata": {
    "slideshow": {
     "slide_type": "subslide"
    }
   },
   "source": [
    "## <font color = black> 3. ¿Cuál es el resultado de sumar la Variable t y la Variable e. Guarda el resultado como \"f\"? </font>"
   ]
  },
  {
   "cell_type": "code",
   "execution_count": null,
   "id": "1ba1fd9b",
   "metadata": {
    "slideshow": {
     "slide_type": "-"
    }
   },
   "outputs": [],
   "source": []
  },
  {
   "cell_type": "code",
   "execution_count": null,
   "id": "072faf23",
   "metadata": {
    "slideshow": {
     "slide_type": "-"
    }
   },
   "outputs": [],
   "source": []
  },
  {
   "cell_type": "code",
   "execution_count": 36,
   "id": "f0d6c4ad",
   "metadata": {
    "slideshow": {
     "slide_type": "subslide"
    }
   },
   "outputs": [
    {
     "data": {
      "text/plain": [
       "\"Hola mundo 5True[1, 1.5, 6, 7.8, 10, 4.3, 9, 7, 34, 50, 100, 19, 23]{'Metionina': 'AUG', 'Stop1': 'UAA', 'Stop2': 'UAG', 'Stop3': 'UGA'}\""
      ]
     },
     "execution_count": 36,
     "metadata": {},
     "output_type": "execute_result"
    }
   ],
   "source": [
    "t+' '+e +' ' + str(w) + str(z)+str(d)+str(a)"
   ]
  },
  {
   "cell_type": "code",
   "execution_count": 37,
   "id": "e8ddbc59",
   "metadata": {
    "slideshow": {
     "slide_type": "-"
    }
   },
   "outputs": [
    {
     "ename": "TypeError",
     "evalue": "can only concatenate str (not \"int\") to str",
     "output_type": "error",
     "traceback": [
      "\u001b[0;31m---------------------------------------------------------------------------\u001b[0m",
      "\u001b[0;31mTypeError\u001b[0m                                 Traceback (most recent call last)",
      "Cell \u001b[0;32mIn[37], line 1\u001b[0m\n\u001b[0;32m----> 1\u001b[0m \u001b[43mj\u001b[49m\u001b[38;5;241;43m+\u001b[39;49m\u001b[43mw\u001b[49m\n",
      "\u001b[0;31mTypeError\u001b[0m: can only concatenate str (not \"int\") to str"
     ]
    }
   ],
   "source": [
    "j+w"
   ]
  },
  {
   "cell_type": "markdown",
   "id": "d202a946",
   "metadata": {
    "slideshow": {
     "slide_type": "slide"
    }
   },
   "source": [
    "<div style=\"text-align: center; font-size: 40px; font-weight: bold; color: black;\">\n",
    "    ¡ OPERADORES !\n",
    "</div>\n",
    "\n",
    "<div style=\"text-align: center; font-size: 40px; font-weight: bold; color: blUE;\">\n",
    "    Operadores booleanos (operadores lógicos) \n",
    "</div>\n",
    "\n",
    "\n",
    "### <font color = red>Qué son y en qué casos los utilizamos</font> \n",
    "\n",
    "- Son palabras o símbolos que permiten conectar de forma lógica conceptos o grupos de términos para así ampliar, limitar o definir tus búsquedas rápidamente.\n",
    "- Los operadores son símbolos matemáticos que llevan a cabo operaciones específicas entre operandos (entradas).  \n",
    "- Se usan cuando quieres realizar operaciones matemáticas o comparaciones\n",
    "\n",
    "<div style=\"text-align: center; font-size: 40px; font-weight: bold; color: blUE;\">\n",
    "    Operadores aritméticos \n",
    "</div>\n",
    "\n",
    "<div style=\"text-align: center;\">\n",
    "    <img src=\"https://i.imgur.com/qbOFtRr.gif\" alt=\"Texto alternativo\" />\n",
    "</div>\n",
    "\n"
   ]
  },
  {
   "cell_type": "markdown",
   "id": "d4b1c2b6",
   "metadata": {
    "slideshow": {
     "slide_type": "subslide"
    }
   },
   "source": [
    "## Las computadoras son increíbles para hacer cálculos matemáticos. Ahora que hemos aprendido sobre variables, ¡usémoslas con operadores aritméticos para calcular cosas! 🔢\n",
    "\n",
    "## Python tiene los siguientes operadores aritméticos:\n",
    "\n",
    "# Suma `+` \n",
    "# Resta `-` \n",
    "# Multiplicación `*` \n",
    "# División `/` \n",
    "# Exponente `**` "
   ]
  },
  {
   "cell_type": "code",
   "execution_count": 72,
   "id": "50f24d66",
   "metadata": {
    "slideshow": {
     "slide_type": "subslide"
    }
   },
   "outputs": [],
   "source": []
  },
  {
   "cell_type": "code",
   "execution_count": null,
   "id": "55f1ced8",
   "metadata": {
    "slideshow": {
     "slide_type": "-"
    }
   },
   "outputs": [],
   "source": []
  },
  {
   "cell_type": "code",
   "execution_count": null,
   "id": "9889c937",
   "metadata": {
    "slideshow": {
     "slide_type": "-"
    }
   },
   "outputs": [],
   "source": []
  },
  {
   "cell_type": "code",
   "execution_count": null,
   "id": "d66a8330",
   "metadata": {
    "slideshow": {
     "slide_type": "-"
    }
   },
   "outputs": [],
   "source": []
  },
  {
   "cell_type": "code",
   "execution_count": null,
   "id": "de55369d",
   "metadata": {
    "slideshow": {
     "slide_type": "-"
    }
   },
   "outputs": [],
   "source": []
  },
  {
   "cell_type": "code",
   "execution_count": null,
   "id": "0758c3d3",
   "metadata": {
    "slideshow": {
     "slide_type": "-"
    }
   },
   "outputs": [],
   "source": []
  },
  {
   "cell_type": "code",
   "execution_count": null,
   "id": "e72c3480",
   "metadata": {
    "slideshow": {
     "slide_type": "-"
    }
   },
   "outputs": [],
   "source": []
  },
  {
   "cell_type": "code",
   "execution_count": null,
   "id": "5eefaee2",
   "metadata": {
    "slideshow": {
     "slide_type": "-"
    }
   },
   "outputs": [],
   "source": []
  },
  {
   "cell_type": "code",
   "execution_count": 74,
   "id": "66a33f50",
   "metadata": {
    "slideshow": {
     "slide_type": "-"
    }
   },
   "outputs": [],
   "source": []
  },
  {
   "cell_type": "markdown",
   "id": "6aa832c2",
   "metadata": {
    "slideshow": {
     "slide_type": "slide"
    }
   },
   "source": [
    "<div style=\"text-align: center; font-size: 60px; font-weight: bold; color: red;\">\n",
    "    ¡ EJERCICIOS !\n",
    "</div>\n",
    "\n",
    "# 1. Cree un variable temp_f que convierta un número de Fahrenheit (°F) a Celsius (°C).\n",
    "\n",
    "# Busque en Google la temperatura actual de Brooklyn, NY  en °F.\n",
    "\n",
    "# Utilice la siguiente fórmula y escríbala en Python:\n",
    "\n",
    "\n",
    "$$\n",
    "celsius = \\frac{Fahrenheit - 32}{1.8}\n",
    "$$\n",
    "\n",
    "<div style=\"text-align: center;\">\n",
    "    <img src=\"https://i.imgur.com/CrJhVNk.gif\" alt=\"Texto alternativo\" />\n",
    "</div>\n",
    "\n",
    "\n",
    "# Imprime la temperatura convertida. 🌡️\n",
    "\n"
   ]
  },
  {
   "cell_type": "markdown",
   "id": "d4f50799",
   "metadata": {
    "slideshow": {
     "slide_type": "subslide"
    }
   },
   "source": [
    "# 2. El índice de masa corporal (IMC) fue creado por un matemático belga en la década de 1850 y lo utilizan los profesionales de la salud y la nutrición para estimar la grasa corporal humana en ciertas poblaciones.\n",
    "\n",
    "# Se calcula tomando el peso (masa) de un individuo en kilogramos y dividiéndolo por el cuadrado de su altura en metros.\n",
    "\n",
    "$$\n",
    "IMC = \\frac{masa}{altura^2}\n",
    "$$\n",
    "\n",
    "\n",
    "# calcula tu propio IMC."
   ]
  },
  {
   "cell_type": "code",
   "execution_count": null,
   "id": "98031841",
   "metadata": {
    "slideshow": {
     "slide_type": "subslide"
    }
   },
   "outputs": [],
   "source": []
  },
  {
   "cell_type": "code",
   "execution_count": null,
   "id": "fdb4737d",
   "metadata": {
    "slideshow": {
     "slide_type": "-"
    }
   },
   "outputs": [],
   "source": []
  },
  {
   "cell_type": "code",
   "execution_count": null,
   "id": "d634445d",
   "metadata": {
    "slideshow": {
     "slide_type": "-"
    }
   },
   "outputs": [],
   "source": []
  },
  {
   "cell_type": "code",
   "execution_count": null,
   "id": "bba0e814",
   "metadata": {
    "slideshow": {
     "slide_type": "-"
    }
   },
   "outputs": [],
   "source": []
  },
  {
   "cell_type": "code",
   "execution_count": null,
   "id": "b08c0630",
   "metadata": {
    "slideshow": {
     "slide_type": "-"
    }
   },
   "outputs": [],
   "source": []
  },
  {
   "cell_type": "code",
   "execution_count": null,
   "id": "c5ea07b2",
   "metadata": {
    "slideshow": {
     "slide_type": "-"
    }
   },
   "outputs": [],
   "source": []
  },
  {
   "cell_type": "markdown",
   "id": "02cd010c",
   "metadata": {
    "slideshow": {
     "slide_type": "slide"
    }
   },
   "source": [
    "\n",
    "<div style=\"text-align: center; font-size: 40px; font-weight: bold; color: blUE;\">\n",
    "    Operadores relacionales y de asignación \n",
    "</div>\n",
    "\n",
    "<div style=\"text-align: left; display: inline-block;\">\n",
    "    <img src=\"https://i.imgur.com/IyOGTu3.gif\" alt=\"Texto alternativo\" />\n",
    "</div>\n",
    "\n",
    "<div style=\"text-align: center; display: inline-block;\">\n",
    "    <img src=\"https://i.imgur.com/hoKkeLM.gif\" alt=\"Texto alternativo\" />\n",
    "</div>\n",
    "\n",
    "Menor que `<`  \n",
    "Menor o igual que `<=`   \n",
    "Mayor que `>`  \n",
    "Mayor o igual que `>=`  \n",
    "Igual que `==`  \n",
    "No es igual `!=`   \n",
    "**Los resultados boleanos siempre devuelven `False` o `True`**   \n",
    "Asignación `=`  \n",
    "También están lo de asignación aumentada `+=` y `-=`, aplicada en iteraciones  \n",
    "---"
   ]
  },
  {
   "cell_type": "code",
   "execution_count": null,
   "id": "ab0b1226",
   "metadata": {
    "slideshow": {
     "slide_type": "subslide"
    }
   },
   "outputs": [],
   "source": []
  },
  {
   "cell_type": "code",
   "execution_count": null,
   "id": "18969929",
   "metadata": {
    "slideshow": {
     "slide_type": "-"
    }
   },
   "outputs": [],
   "source": []
  },
  {
   "cell_type": "code",
   "execution_count": null,
   "id": "48319e64",
   "metadata": {
    "slideshow": {
     "slide_type": "-"
    }
   },
   "outputs": [],
   "source": []
  },
  {
   "cell_type": "code",
   "execution_count": null,
   "id": "45b07e12",
   "metadata": {
    "slideshow": {
     "slide_type": "-"
    }
   },
   "outputs": [],
   "source": []
  },
  {
   "cell_type": "code",
   "execution_count": null,
   "id": "e48d0f63",
   "metadata": {
    "slideshow": {
     "slide_type": "-"
    }
   },
   "outputs": [],
   "source": []
  },
  {
   "cell_type": "code",
   "execution_count": null,
   "id": "fc22964b",
   "metadata": {
    "slideshow": {
     "slide_type": "-"
    }
   },
   "outputs": [],
   "source": []
  },
  {
   "cell_type": "code",
   "execution_count": null,
   "id": "85d1dd37",
   "metadata": {
    "slideshow": {
     "slide_type": "-"
    }
   },
   "outputs": [],
   "source": []
  },
  {
   "cell_type": "code",
   "execution_count": null,
   "id": "bcf1e78c",
   "metadata": {
    "slideshow": {
     "slide_type": "-"
    }
   },
   "outputs": [],
   "source": []
  },
  {
   "cell_type": "markdown",
   "id": "7a01288b",
   "metadata": {
    "slideshow": {
     "slide_type": "slide"
    }
   },
   "source": [
    "---\n",
    "<div style=\"text-align: center; font-size: 40px; font-weight: bold; color: blUE;\">\n",
    "    Operadores especiales \n",
    "</div>\n",
    "\n",
    "<div style=\"text-align: left; display: inline-block;\">\n",
    "    <img src=\"https://i.imgur.com/uKB51fZ.gif\" alt=\"Texto alternativo\" style=\"width: 1000px; height: 400px;\" />\n",
    "</div>\n",
    "\n",
    "# Si un elemento se encuentra dentro de otro `in`  \n",
    "# Identidad de objeto `is`   \n",
    "# Identidad de objeto negada `is not`   \n",
    "# Devuelve verdadero sólo si se cumplen todas las condiciones: `and` (conjunción), se le conoce como `multiplicación lógica`       \n",
    "# Devuelve verdadero si se cumple como mínimo una condición: `or` (disyunción), se le conoce como `suma lógica`   "
   ]
  },
  {
   "cell_type": "markdown",
   "id": "e2c86f6c",
   "metadata": {
    "slideshow": {
     "slide_type": "subslide"
    }
   },
   "source": [
    "<img src=\"https://miro.medium.com/v2/resize:fit:640/format:webp/1*UGawB4Ovgxkb6GZhChMJDw.png\" width = 70%> <br>\n",
    "\n",
    "<img src=\"https://miro.medium.com/v2/resize:fit:720/format:webp/1*-TyOH7lmy8qEEorcNxoYAg.png\" width = 70%> <br>\n",
    "** Los resultados booleanos siempre devuelven `False` o `True`**\n",
    "---"
   ]
  },
  {
   "cell_type": "code",
   "execution_count": null,
   "id": "08e84a07",
   "metadata": {
    "slideshow": {
     "slide_type": "subslide"
    }
   },
   "outputs": [],
   "source": []
  },
  {
   "cell_type": "code",
   "execution_count": null,
   "id": "f47c6da7",
   "metadata": {
    "slideshow": {
     "slide_type": "-"
    }
   },
   "outputs": [],
   "source": []
  },
  {
   "cell_type": "code",
   "execution_count": null,
   "id": "f2939b1c",
   "metadata": {
    "slideshow": {
     "slide_type": "-"
    }
   },
   "outputs": [],
   "source": []
  },
  {
   "cell_type": "code",
   "execution_count": null,
   "id": "73a93119",
   "metadata": {
    "slideshow": {
     "slide_type": "-"
    }
   },
   "outputs": [],
   "source": []
  },
  {
   "cell_type": "code",
   "execution_count": null,
   "id": "be0b036f",
   "metadata": {
    "slideshow": {
     "slide_type": "-"
    }
   },
   "outputs": [],
   "source": []
  },
  {
   "cell_type": "code",
   "execution_count": null,
   "id": "c7cdcea7",
   "metadata": {
    "slideshow": {
     "slide_type": "-"
    }
   },
   "outputs": [],
   "source": []
  },
  {
   "cell_type": "code",
   "execution_count": null,
   "id": "1951ab32",
   "metadata": {
    "slideshow": {
     "slide_type": "-"
    }
   },
   "outputs": [],
   "source": []
  },
  {
   "cell_type": "code",
   "execution_count": null,
   "id": "5bcef56d",
   "metadata": {
    "slideshow": {
     "slide_type": "-"
    }
   },
   "outputs": [],
   "source": []
  },
  {
   "cell_type": "markdown",
   "id": "3c0ce2e5",
   "metadata": {
    "slideshow": {
     "slide_type": "slide"
    }
   },
   "source": [
    "\n",
    "<div style=\"text-align: center; font-size: 50px; font-weight: bold; color: red;\">\n",
    "    Ejercicio 1 \n",
    "</div>\n",
    "\n",
    "# 1. Copia todo el argumento de la figura 1 en una celda\n",
    "# 2. Define el valor de las variables `a`, `b` y `c` de tal forma que al correr la celda el argumento devuelva `True`\n",
    "# 3. Haz un desglose de cada comparación `(a operador b)` e imprime el resultado, debe coincidir con la imagen\n",
    "\n",
    "\n"
   ]
  },
  {
   "cell_type": "markdown",
   "id": "a9973c47",
   "metadata": {
    "slideshow": {
     "slide_type": "slide"
    }
   },
   "source": [
    "<div style=\"text-align: center; font-size: 50px; font-weight: bold; color: red;\">\n",
    "    Ejercicio 2 \n",
    "</div>\n",
    "\n",
    "# 1. Copia todo el argumento de la figura 2 en una celda\n",
    "# 2. Inserta las variables y operadores faltantes de tal forma que al correr la celda el argumento devuelva `False`  \n",
    "# 3. Haz un desglose de cada comparación `(a operador b)` e imprime el resultado, debe coincidir con la imagen\n",
    "\n"
   ]
  },
  {
   "cell_type": "markdown",
   "id": "a697519d",
   "metadata": {
    "slideshow": {
     "slide_type": "slide"
    }
   },
   "source": [
    "<div style=\"text-align: left; display: inline-block;\">\n",
    "    <img src=\"https://i.imgur.com/YVim9Ua.gif\" alt=\"Texto alternativo\" />\n",
    "</div>"
   ]
  },
  {
   "cell_type": "code",
   "execution_count": null,
   "id": "f5fc21cb",
   "metadata": {
    "slideshow": {
     "slide_type": "subslide"
    }
   },
   "outputs": [],
   "source": []
  },
  {
   "cell_type": "code",
   "execution_count": null,
   "id": "47c4f00f",
   "metadata": {
    "slideshow": {
     "slide_type": "-"
    }
   },
   "outputs": [],
   "source": []
  },
  {
   "cell_type": "code",
   "execution_count": null,
   "id": "4d8894fb",
   "metadata": {
    "slideshow": {
     "slide_type": "-"
    }
   },
   "outputs": [],
   "source": []
  },
  {
   "cell_type": "code",
   "execution_count": null,
   "id": "c6678861",
   "metadata": {
    "slideshow": {
     "slide_type": "-"
    }
   },
   "outputs": [],
   "source": []
  },
  {
   "cell_type": "code",
   "execution_count": null,
   "id": "8a632fa2",
   "metadata": {
    "slideshow": {
     "slide_type": "-"
    }
   },
   "outputs": [],
   "source": []
  },
  {
   "cell_type": "code",
   "execution_count": null,
   "id": "c530100d",
   "metadata": {
    "slideshow": {
     "slide_type": "-"
    }
   },
   "outputs": [],
   "source": []
  },
  {
   "cell_type": "code",
   "execution_count": null,
   "id": "265cd094",
   "metadata": {
    "slideshow": {
     "slide_type": "-"
    }
   },
   "outputs": [],
   "source": []
  }
 ],
 "metadata": {
  "kernelspec": {
   "display_name": "Python 3 (ipykernel)",
   "language": "python",
   "name": "python3"
  },
  "language_info": {
   "codemirror_mode": {
    "name": "ipython",
    "version": 3
   },
   "file_extension": ".py",
   "mimetype": "text/x-python",
   "name": "python",
   "nbconvert_exporter": "python",
   "pygments_lexer": "ipython3",
   "version": "3.12.2"
  }
 },
 "nbformat": 4,
 "nbformat_minor": 5
}
